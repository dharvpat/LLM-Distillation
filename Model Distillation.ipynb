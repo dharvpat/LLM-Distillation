{
  "cells": [
    {
      "cell_type": "code",
      "execution_count": null,
      "metadata": {
        "colab": {
          "base_uri": "https://localhost:8080/",
          "height": 1000,
          "referenced_widgets": [
            "9ffca07ce5b14c9e9d7e9136b60a2eb1",
            "5f5d08a4b1864858b49188f47c548961",
            "f1756203d846440d8ffd87a90e901083",
            "333a49f26b3a467cb825d0c69c0fd6dc",
            "2a46ec9da5bd4eb7aba17a2a0f3b9416",
            "eccf29e3a9f54cff9c53ec80081f88c8",
            "9094c1fd2d314568a58be10e1f526f2e",
            "ead6c566a9b3460faaaf989667b922ea",
            "23911f1f5fe44e1288cccab844cb0bb4",
            "85684877b9f34cec98163f00087c2968",
            "c67eb868a40e4bf4a1febad32b95e921",
            "80dbafc5025b47ceba88c24c312649e8",
            "9929b9f19dfc49abb97d3cf645fadb1e",
            "7950e51ad79042ae9320b302c9312885",
            "ee76633681324618a525b76f194cc07f",
            "d8b63e3845aa4cb99d4c43f10aadb974",
            "a131e4eb0732454e8ce9284f37ea62db",
            "a7332ee7c6234d1b8c088979a7a79980",
            "a6952bd113bf4ec18e3b95171e4caaad",
            "a92953e501754596b487e784f75357b3",
            "680c78568c554303ac18d0e002face32",
            "28f78f8fe9c74799a2676d95c7ea8cb8"
          ]
        },
        "id": "9Lh-RLajnvZa",
        "outputId": "5d2b1d21-f68f-4b7e-e6d7-e74b4598d00c"
      },
      "outputs": [
        {
          "name": "stdout",
          "output_type": "stream",
          "text": [
            "Using device: cuda\n",
            "CUDA Version: 12.4\n",
            "BitsAndBytes Version: 0.45.3\n",
            "Initial GPU memory: 0 MB\n",
            "Loading tokenizer...\n"
          ]
        },
        {
          "name": "stderr",
          "output_type": "stream",
          "text": [
            "/usr/local/lib/python3.11/dist-packages/huggingface_hub/utils/_auth.py:94: UserWarning: \n",
            "The secret `HF_TOKEN` does not exist in your Colab secrets.\n",
            "To authenticate with the Hugging Face Hub, create a token in your settings tab (https://huggingface.co/settings/tokens), set it as secret in your Google Colab and restart your session.\n",
            "You will be able to reuse this secret in all of your notebooks.\n",
            "Please note that authentication is recommended but still optional to access public models or datasets.\n",
            "  warnings.warn(\n"
          ]
        },
        {
          "name": "stdout",
          "output_type": "stream",
          "text": [
            "Loading teacher model in 8-bit...\n"
          ]
        },
        {
          "data": {
            "application/vnd.jupyter.widget-view+json": {
              "model_id": "9ffca07ce5b14c9e9d7e9136b60a2eb1",
              "version_major": 2,
              "version_minor": 0
            },
            "text/plain": [
              "Loading checkpoint shards:   0%|          | 0/2 [00:00<?, ?it/s]"
            ]
          },
          "metadata": {},
          "output_type": "display_data"
        },
        {
          "name": "stdout",
          "output_type": "stream",
          "text": [
            "Teacher model loaded. GPU memory: 3443 MB\n",
            "Loading student model in 8-bit...\n",
            "Student model loaded. GPU memory: 4875 MB\n"
          ]
        },
        {
          "data": {
            "application/vnd.jupyter.widget-view+json": {
              "model_id": "80dbafc5025b47ceba88c24c312649e8",
              "version_major": 2,
              "version_minor": 0
            },
            "text/plain": [
              "Map:   0%|          | 0/1836 [00:00<?, ? examples/s]"
            ]
          },
          "metadata": {},
          "output_type": "display_data"
        },
        {
          "name": "stdout",
          "output_type": "stream",
          "text": [
            "Setting up 8-bit optimizer...\n"
          ]
        },
        {
          "name": "stderr",
          "output_type": "stream",
          "text": [
            "Epoch 1:   0%|          | 1/918 [00:00<14:00,  1.09it/s, loss=168]"
          ]
        },
        {
          "name": "stdout",
          "output_type": "stream",
          "text": [
            "Memory cleared. GPU memory: 5974 MB\n"
          ]
        },
        {
          "name": "stderr",
          "output_type": "stream",
          "text": [
            "Epoch 1:   2%|▏         | 21/918 [00:06<05:22,  2.78it/s, loss=18.8]"
          ]
        },
        {
          "name": "stdout",
          "output_type": "stream",
          "text": [
            "Memory cleared. GPU memory: 5917 MB\n"
          ]
        },
        {
          "name": "stderr",
          "output_type": "stream",
          "text": [
            "Epoch 1:   4%|▍         | 41/918 [00:12<05:38,  2.59it/s, loss=461]"
          ]
        },
        {
          "name": "stdout",
          "output_type": "stream",
          "text": [
            "Memory cleared. GPU memory: 6090 MB\n"
          ]
        },
        {
          "name": "stderr",
          "output_type": "stream",
          "text": [
            "Epoch 1:   7%|▋         | 61/918 [00:18<05:20,  2.67it/s, loss=226]"
          ]
        },
        {
          "name": "stdout",
          "output_type": "stream",
          "text": [
            "Memory cleared. GPU memory: 6007 MB\n"
          ]
        },
        {
          "name": "stderr",
          "output_type": "stream",
          "text": [
            "Epoch 1:   9%|▉         | 81/918 [00:24<05:04,  2.74it/s, loss=124]"
          ]
        },
        {
          "name": "stdout",
          "output_type": "stream",
          "text": [
            "Memory cleared. GPU memory: 5993 MB\n"
          ]
        },
        {
          "name": "stderr",
          "output_type": "stream",
          "text": [
            "Epoch 1:  11%|█         | 101/918 [00:30<05:06,  2.66it/s, loss=89.8]"
          ]
        },
        {
          "name": "stdout",
          "output_type": "stream",
          "text": [
            "Memory cleared. GPU memory: 5982 MB\n"
          ]
        },
        {
          "name": "stderr",
          "output_type": "stream",
          "text": [
            "Epoch 1:  13%|█▎        | 121/918 [00:36<04:54,  2.71it/s, loss=320]"
          ]
        },
        {
          "name": "stdout",
          "output_type": "stream",
          "text": [
            "Memory cleared. GPU memory: 6140 MB\n"
          ]
        },
        {
          "name": "stderr",
          "output_type": "stream",
          "text": [
            "Epoch 1:  15%|█▌        | 141/918 [00:41<04:40,  2.77it/s, loss=10.3]"
          ]
        },
        {
          "name": "stdout",
          "output_type": "stream",
          "text": [
            "Memory cleared. GPU memory: 5917 MB\n"
          ]
        },
        {
          "name": "stderr",
          "output_type": "stream",
          "text": [
            "Epoch 1:  18%|█▊        | 161/918 [00:47<04:26,  2.84it/s, loss=251]"
          ]
        },
        {
          "name": "stdout",
          "output_type": "stream",
          "text": [
            "Memory cleared. GPU memory: 6136 MB\n"
          ]
        },
        {
          "name": "stderr",
          "output_type": "stream",
          "text": [
            "Epoch 1:  20%|█▉        | 181/918 [00:53<04:20,  2.83it/s, loss=152]"
          ]
        },
        {
          "name": "stdout",
          "output_type": "stream",
          "text": [
            "Memory cleared. GPU memory: 6084 MB\n"
          ]
        },
        {
          "name": "stderr",
          "output_type": "stream",
          "text": [
            "Epoch 1:  22%|██▏       | 201/918 [00:58<04:17,  2.78it/s, loss=98.6]"
          ]
        },
        {
          "name": "stdout",
          "output_type": "stream",
          "text": [
            "Memory cleared. GPU memory: 6053 MB\n"
          ]
        },
        {
          "name": "stderr",
          "output_type": "stream",
          "text": [
            "Epoch 1:  24%|██▍       | 221/918 [01:04<03:58,  2.92it/s, loss=0.139]"
          ]
        },
        {
          "name": "stdout",
          "output_type": "stream",
          "text": [
            "Memory cleared. GPU memory: 5912 MB\n"
          ]
        },
        {
          "name": "stderr",
          "output_type": "stream",
          "text": [
            "Epoch 1:  26%|██▋       | 241/918 [01:09<03:53,  2.90it/s, loss=157]"
          ]
        },
        {
          "name": "stdout",
          "output_type": "stream",
          "text": [
            "Memory cleared. GPU memory: 6104 MB\n"
          ]
        },
        {
          "name": "stderr",
          "output_type": "stream",
          "text": [
            "Epoch 1:  28%|██▊       | 261/918 [01:15<03:41,  2.96it/s, loss=0.131]"
          ]
        },
        {
          "name": "stdout",
          "output_type": "stream",
          "text": [
            "Memory cleared. GPU memory: 5910 MB\n"
          ]
        },
        {
          "name": "stderr",
          "output_type": "stream",
          "text": [
            "Epoch 1:  31%|███       | 281/918 [01:21<03:36,  2.94it/s, loss=0.125]"
          ]
        },
        {
          "name": "stdout",
          "output_type": "stream",
          "text": [
            "Memory cleared. GPU memory: 5911 MB\n"
          ]
        },
        {
          "name": "stderr",
          "output_type": "stream",
          "text": [
            "Epoch 1:  33%|███▎      | 301/918 [01:26<03:34,  2.87it/s, loss=3.38]"
          ]
        },
        {
          "name": "stdout",
          "output_type": "stream",
          "text": [
            "Memory cleared. GPU memory: 5917 MB\n"
          ]
        },
        {
          "name": "stderr",
          "output_type": "stream",
          "text": [
            "Epoch 1:  35%|███▍      | 321/918 [01:32<03:36,  2.75it/s, loss=165]"
          ]
        },
        {
          "name": "stdout",
          "output_type": "stream",
          "text": [
            "Memory cleared. GPU memory: 6084 MB\n"
          ]
        },
        {
          "name": "stderr",
          "output_type": "stream",
          "text": [
            "Epoch 1:  37%|███▋      | 341/918 [01:38<03:22,  2.86it/s, loss=77.3]"
          ]
        },
        {
          "name": "stdout",
          "output_type": "stream",
          "text": [
            "Memory cleared. GPU memory: 5985 MB\n"
          ]
        },
        {
          "name": "stderr",
          "output_type": "stream",
          "text": [
            "Epoch 1:  39%|███▉      | 361/918 [01:43<03:17,  2.82it/s, loss=11]"
          ]
        },
        {
          "name": "stdout",
          "output_type": "stream",
          "text": [
            "Memory cleared. GPU memory: 5922 MB\n"
          ]
        },
        {
          "name": "stderr",
          "output_type": "stream",
          "text": [
            "Epoch 1:  42%|████▏     | 381/918 [01:49<03:15,  2.75it/s, loss=190]"
          ]
        },
        {
          "name": "stdout",
          "output_type": "stream",
          "text": [
            "Memory cleared. GPU memory: 6138 MB\n"
          ]
        },
        {
          "name": "stderr",
          "output_type": "stream",
          "text": [
            "Epoch 1:  44%|████▎     | 401/918 [01:55<02:55,  2.95it/s, loss=0.109]"
          ]
        },
        {
          "name": "stdout",
          "output_type": "stream",
          "text": [
            "Memory cleared. GPU memory: 5909 MB\n"
          ]
        },
        {
          "name": "stderr",
          "output_type": "stream",
          "text": [
            "Epoch 1:  46%|████▌     | 421/918 [02:00<02:51,  2.90it/s, loss=0.103]"
          ]
        },
        {
          "name": "stdout",
          "output_type": "stream",
          "text": [
            "Memory cleared. GPU memory: 5910 MB\n"
          ]
        },
        {
          "name": "stderr",
          "output_type": "stream",
          "text": [
            "Epoch 1:  48%|████▊     | 441/918 [02:06<02:56,  2.70it/s, loss=128]"
          ]
        },
        {
          "name": "stdout",
          "output_type": "stream",
          "text": [
            "Memory cleared. GPU memory: 6106 MB\n"
          ]
        },
        {
          "name": "stderr",
          "output_type": "stream",
          "text": [
            "Epoch 1:  50%|█████     | 461/918 [02:12<02:36,  2.92it/s, loss=5.65]"
          ]
        },
        {
          "name": "stdout",
          "output_type": "stream",
          "text": [
            "Memory cleared. GPU memory: 5921 MB\n"
          ]
        },
        {
          "name": "stderr",
          "output_type": "stream",
          "text": [
            "Epoch 1:  52%|█████▏    | 481/918 [02:17<02:36,  2.80it/s, loss=73.1]"
          ]
        },
        {
          "name": "stdout",
          "output_type": "stream",
          "text": [
            "Memory cleared. GPU memory: 6015 MB\n"
          ]
        },
        {
          "name": "stderr",
          "output_type": "stream",
          "text": [
            "Epoch 1:  55%|█████▍    | 501/918 [02:23<02:27,  2.83it/s, loss=169]"
          ]
        },
        {
          "name": "stdout",
          "output_type": "stream",
          "text": [
            "Memory cleared. GPU memory: 6089 MB\n"
          ]
        },
        {
          "name": "stderr",
          "output_type": "stream",
          "text": [
            "Epoch 1:  57%|█████▋    | 521/918 [02:29<02:21,  2.81it/s, loss=4.06]"
          ]
        },
        {
          "name": "stdout",
          "output_type": "stream",
          "text": [
            "Memory cleared. GPU memory: 5916 MB\n"
          ]
        },
        {
          "name": "stderr",
          "output_type": "stream",
          "text": [
            "Epoch 1:  59%|█████▉    | 541/918 [02:34<02:10,  2.90it/s, loss=117]"
          ]
        },
        {
          "name": "stdout",
          "output_type": "stream",
          "text": [
            "Memory cleared. GPU memory: 6114 MB\n"
          ]
        },
        {
          "name": "stderr",
          "output_type": "stream",
          "text": [
            "Epoch 1:  61%|██████    | 561/918 [02:40<02:05,  2.85it/s, loss=0.092]"
          ]
        },
        {
          "name": "stdout",
          "output_type": "stream",
          "text": [
            "Memory cleared. GPU memory: 5912 MB\n"
          ]
        },
        {
          "name": "stderr",
          "output_type": "stream",
          "text": [
            "Epoch 1:  63%|██████▎   | 581/918 [02:46<01:58,  2.84it/s, loss=104]"
          ]
        },
        {
          "name": "stdout",
          "output_type": "stream",
          "text": [
            "Memory cleared. GPU memory: 6094 MB\n"
          ]
        },
        {
          "name": "stderr",
          "output_type": "stream",
          "text": [
            "Epoch 1:  65%|██████▌   | 601/918 [02:51<01:51,  2.85it/s, loss=6.54]"
          ]
        },
        {
          "name": "stdout",
          "output_type": "stream",
          "text": [
            "Memory cleared. GPU memory: 5926 MB\n"
          ]
        },
        {
          "name": "stderr",
          "output_type": "stream",
          "text": [
            "Epoch 1:  68%|██████▊   | 621/918 [02:57<01:47,  2.77it/s, loss=11.3]"
          ]
        },
        {
          "name": "stdout",
          "output_type": "stream",
          "text": [
            "Memory cleared. GPU memory: 5924 MB\n"
          ]
        },
        {
          "name": "stderr",
          "output_type": "stream",
          "text": [
            "Epoch 1:  70%|██████▉   | 641/918 [03:03<01:38,  2.80it/s, loss=6.65]"
          ]
        },
        {
          "name": "stdout",
          "output_type": "stream",
          "text": [
            "Memory cleared. GPU memory: 5920 MB\n"
          ]
        },
        {
          "name": "stderr",
          "output_type": "stream",
          "text": [
            "Epoch 1:  72%|███████▏  | 661/918 [03:09<01:34,  2.73it/s, loss=118]"
          ]
        },
        {
          "name": "stdout",
          "output_type": "stream",
          "text": [
            "Memory cleared. GPU memory: 6066 MB\n"
          ]
        },
        {
          "name": "stderr",
          "output_type": "stream",
          "text": [
            "Epoch 1:  74%|███████▍  | 681/918 [03:14<01:22,  2.89it/s, loss=2.44]"
          ]
        },
        {
          "name": "stdout",
          "output_type": "stream",
          "text": [
            "Memory cleared. GPU memory: 5915 MB\n"
          ]
        },
        {
          "name": "stderr",
          "output_type": "stream",
          "text": [
            "Epoch 1:  76%|███████▋  | 701/918 [03:20<01:20,  2.71it/s, loss=108]"
          ]
        },
        {
          "name": "stdout",
          "output_type": "stream",
          "text": [
            "Memory cleared. GPU memory: 6059 MB\n"
          ]
        },
        {
          "name": "stderr",
          "output_type": "stream",
          "text": [
            "Epoch 1:  79%|███████▊  | 721/918 [03:26<01:07,  2.91it/s, loss=0.0778]"
          ]
        },
        {
          "name": "stdout",
          "output_type": "stream",
          "text": [
            "Memory cleared. GPU memory: 5911 MB\n"
          ]
        },
        {
          "name": "stderr",
          "output_type": "stream",
          "text": [
            "Epoch 1:  81%|████████  | 741/918 [03:31<01:01,  2.88it/s, loss=10.1]"
          ]
        },
        {
          "name": "stdout",
          "output_type": "stream",
          "text": [
            "Memory cleared. GPU memory: 5926 MB\n"
          ]
        },
        {
          "name": "stderr",
          "output_type": "stream",
          "text": [
            "Epoch 1:  83%|████████▎ | 761/918 [03:37<00:52,  2.99it/s, loss=0.0767]"
          ]
        },
        {
          "name": "stdout",
          "output_type": "stream",
          "text": [
            "Memory cleared. GPU memory: 5911 MB\n"
          ]
        },
        {
          "name": "stderr",
          "output_type": "stream",
          "text": [
            "Epoch 1:  85%|████████▌ | 781/918 [03:43<00:47,  2.89it/s, loss=6.57]"
          ]
        },
        {
          "name": "stdout",
          "output_type": "stream",
          "text": [
            "Memory cleared. GPU memory: 5920 MB\n"
          ]
        },
        {
          "name": "stderr",
          "output_type": "stream",
          "text": [
            "Epoch 1:  87%|████████▋ | 801/918 [03:48<00:41,  2.83it/s, loss=170]"
          ]
        },
        {
          "name": "stdout",
          "output_type": "stream",
          "text": [
            "Memory cleared. GPU memory: 6137 MB\n"
          ]
        },
        {
          "name": "stderr",
          "output_type": "stream",
          "text": [
            "Epoch 1:  89%|████████▉ | 821/918 [03:54<00:32,  2.97it/s, loss=0.0756]"
          ]
        },
        {
          "name": "stdout",
          "output_type": "stream",
          "text": [
            "Memory cleared. GPU memory: 5910 MB\n"
          ]
        },
        {
          "name": "stderr",
          "output_type": "stream",
          "text": [
            "Epoch 1:  92%|█████████▏| 841/918 [04:00<00:26,  2.85it/s, loss=2.92]"
          ]
        },
        {
          "name": "stdout",
          "output_type": "stream",
          "text": [
            "Memory cleared. GPU memory: 5916 MB\n"
          ]
        },
        {
          "name": "stderr",
          "output_type": "stream",
          "text": [
            "Epoch 1:  94%|█████████▍| 861/918 [04:05<00:19,  2.86it/s, loss=112]"
          ]
        },
        {
          "name": "stdout",
          "output_type": "stream",
          "text": [
            "Memory cleared. GPU memory: 6081 MB\n"
          ]
        },
        {
          "name": "stderr",
          "output_type": "stream",
          "text": [
            "Epoch 1:  96%|█████████▌| 881/918 [04:11<00:13,  2.79it/s, loss=51.2]"
          ]
        },
        {
          "name": "stdout",
          "output_type": "stream",
          "text": [
            "Memory cleared. GPU memory: 6009 MB\n"
          ]
        },
        {
          "name": "stderr",
          "output_type": "stream",
          "text": [
            "Epoch 1:  98%|█████████▊| 901/918 [04:17<00:06,  2.81it/s, loss=4.47]"
          ]
        },
        {
          "name": "stdout",
          "output_type": "stream",
          "text": [
            "Memory cleared. GPU memory: 5916 MB\n"
          ]
        },
        {
          "name": "stderr",
          "output_type": "stream",
          "text": [
            "Epoch 1: 100%|██████████| 918/918 [04:21<00:00,  3.51it/s, loss=101]\n"
          ]
        },
        {
          "name": "stdout",
          "output_type": "stream",
          "text": [
            "Epoch 1 average loss: 88.7638\n",
            "GPU memory after epoch: 6083 MB\n"
          ]
        },
        {
          "name": "stderr",
          "output_type": "stream",
          "text": [
            "Epoch 2:   0%|          | 1/918 [00:00<07:41,  1.99it/s, loss=0.0694]"
          ]
        },
        {
          "name": "stdout",
          "output_type": "stream",
          "text": [
            "Memory cleared. GPU memory: 5911 MB\n"
          ]
        },
        {
          "name": "stderr",
          "output_type": "stream",
          "text": [
            "Epoch 2:   2%|▏         | 21/918 [00:06<05:20,  2.80it/s, loss=74.3]"
          ]
        },
        {
          "name": "stdout",
          "output_type": "stream",
          "text": [
            "Memory cleared. GPU memory: 6018 MB\n"
          ]
        },
        {
          "name": "stderr",
          "output_type": "stream",
          "text": [
            "Epoch 2:   4%|▍         | 41/918 [00:12<05:16,  2.77it/s, loss=134]"
          ]
        },
        {
          "name": "stdout",
          "output_type": "stream",
          "text": [
            "Memory cleared. GPU memory: 6135 MB\n"
          ]
        },
        {
          "name": "stderr",
          "output_type": "stream",
          "text": [
            "Epoch 2:   7%|▋         | 61/918 [00:17<05:04,  2.82it/s, loss=66.9]"
          ]
        },
        {
          "name": "stdout",
          "output_type": "stream",
          "text": [
            "Memory cleared. GPU memory: 6064 MB\n"
          ]
        },
        {
          "name": "stderr",
          "output_type": "stream",
          "text": [
            "Epoch 2:   9%|▉         | 81/918 [00:23<05:01,  2.78it/s, loss=186]"
          ]
        },
        {
          "name": "stdout",
          "output_type": "stream",
          "text": [
            "Memory cleared. GPU memory: 6134 MB\n"
          ]
        },
        {
          "name": "stderr",
          "output_type": "stream",
          "text": [
            "Epoch 2:  11%|█         | 101/918 [00:28<04:50,  2.81it/s, loss=168]"
          ]
        },
        {
          "name": "stdout",
          "output_type": "stream",
          "text": [
            "Memory cleared. GPU memory: 6137 MB\n"
          ]
        },
        {
          "name": "stderr",
          "output_type": "stream",
          "text": [
            "Epoch 2:  13%|█▎        | 121/918 [00:34<04:46,  2.78it/s, loss=69]"
          ]
        },
        {
          "name": "stdout",
          "output_type": "stream",
          "text": [
            "Memory cleared. GPU memory: 6047 MB\n"
          ]
        },
        {
          "name": "stderr",
          "output_type": "stream",
          "text": [
            "Epoch 2:  15%|█▌        | 141/918 [00:40<04:26,  2.92it/s, loss=6.28]"
          ]
        },
        {
          "name": "stdout",
          "output_type": "stream",
          "text": [
            "Memory cleared. GPU memory: 5921 MB\n"
          ]
        },
        {
          "name": "stderr",
          "output_type": "stream",
          "text": [
            "Epoch 2:  18%|█▊        | 161/918 [00:46<04:34,  2.75it/s, loss=63.5]"
          ]
        },
        {
          "name": "stdout",
          "output_type": "stream",
          "text": [
            "Memory cleared. GPU memory: 5990 MB\n"
          ]
        },
        {
          "name": "stderr",
          "output_type": "stream",
          "text": [
            "Epoch 2:  20%|█▉        | 181/918 [00:51<04:10,  2.94it/s, loss=5.25]"
          ]
        },
        {
          "name": "stdout",
          "output_type": "stream",
          "text": [
            "Memory cleared. GPU memory: 5919 MB\n"
          ]
        },
        {
          "name": "stderr",
          "output_type": "stream",
          "text": [
            "Epoch 2:  22%|██▏       | 201/918 [00:57<04:08,  2.88it/s, loss=107]"
          ]
        },
        {
          "name": "stdout",
          "output_type": "stream",
          "text": [
            "Memory cleared. GPU memory: 6055 MB\n"
          ]
        },
        {
          "name": "stderr",
          "output_type": "stream",
          "text": [
            "Epoch 2:  24%|██▍       | 221/918 [01:03<04:03,  2.86it/s, loss=158]"
          ]
        },
        {
          "name": "stdout",
          "output_type": "stream",
          "text": [
            "Memory cleared. GPU memory: 6095 MB\n"
          ]
        },
        {
          "name": "stderr",
          "output_type": "stream",
          "text": [
            "Epoch 2:  26%|██▋       | 241/918 [01:08<03:57,  2.85it/s, loss=63.8]"
          ]
        },
        {
          "name": "stdout",
          "output_type": "stream",
          "text": [
            "Memory cleared. GPU memory: 6044 MB\n"
          ]
        },
        {
          "name": "stderr",
          "output_type": "stream",
          "text": [
            "Epoch 2:  28%|██▊       | 261/918 [01:14<03:56,  2.78it/s, loss=170]"
          ]
        },
        {
          "name": "stdout",
          "output_type": "stream",
          "text": [
            "Memory cleared. GPU memory: 6121 MB\n"
          ]
        },
        {
          "name": "stderr",
          "output_type": "stream",
          "text": [
            "Epoch 2:  31%|███       | 281/918 [01:20<03:48,  2.78it/s, loss=133]"
          ]
        },
        {
          "name": "stdout",
          "output_type": "stream",
          "text": [
            "Memory cleared. GPU memory: 6092 MB\n"
          ]
        },
        {
          "name": "stderr",
          "output_type": "stream",
          "text": [
            "Epoch 2:  33%|███▎      | 301/918 [01:25<03:40,  2.80it/s, loss=59.4]"
          ]
        },
        {
          "name": "stdout",
          "output_type": "stream",
          "text": [
            "Memory cleared. GPU memory: 6043 MB\n"
          ]
        },
        {
          "name": "stderr",
          "output_type": "stream",
          "text": [
            "Epoch 2:  35%|███▍      | 321/918 [01:31<03:29,  2.84it/s, loss=90.8]"
          ]
        },
        {
          "name": "stdout",
          "output_type": "stream",
          "text": [
            "Memory cleared. GPU memory: 6069 MB\n"
          ]
        },
        {
          "name": "stderr",
          "output_type": "stream",
          "text": [
            "Epoch 2:  37%|███▋      | 341/918 [01:37<03:29,  2.75it/s, loss=107]"
          ]
        },
        {
          "name": "stdout",
          "output_type": "stream",
          "text": [
            "Memory cleared. GPU memory: 6076 MB\n"
          ]
        },
        {
          "name": "stderr",
          "output_type": "stream",
          "text": [
            "Epoch 2:  39%|███▉      | 361/918 [01:42<03:12,  2.89it/s, loss=0.0615]"
          ]
        },
        {
          "name": "stdout",
          "output_type": "stream",
          "text": [
            "Memory cleared. GPU memory: 5910 MB\n"
          ]
        },
        {
          "name": "stderr",
          "output_type": "stream",
          "text": [
            "Epoch 2:  42%|████▏     | 381/918 [01:48<03:08,  2.84it/s, loss=2.73]"
          ]
        },
        {
          "name": "stdout",
          "output_type": "stream",
          "text": [
            "Memory cleared. GPU memory: 5917 MB\n"
          ]
        },
        {
          "name": "stderr",
          "output_type": "stream",
          "text": [
            "Epoch 2:  44%|████▎     | 401/918 [01:54<03:01,  2.86it/s, loss=128]"
          ]
        },
        {
          "name": "stdout",
          "output_type": "stream",
          "text": [
            "Memory cleared. GPU memory: 6060 MB\n"
          ]
        },
        {
          "name": "stderr",
          "output_type": "stream",
          "text": [
            "Epoch 2:  46%|████▌     | 421/918 [01:59<02:49,  2.93it/s, loss=68.9]"
          ]
        },
        {
          "name": "stdout",
          "output_type": "stream",
          "text": [
            "Memory cleared. GPU memory: 6002 MB\n"
          ]
        },
        {
          "name": "stderr",
          "output_type": "stream",
          "text": [
            "Epoch 2:  48%|████▊     | 441/918 [02:05<02:48,  2.83it/s, loss=9.2]"
          ]
        },
        {
          "name": "stdout",
          "output_type": "stream",
          "text": [
            "Memory cleared. GPU memory: 5928 MB\n"
          ]
        },
        {
          "name": "stderr",
          "output_type": "stream",
          "text": [
            "Epoch 2:  50%|█████     | 461/918 [02:11<02:42,  2.81it/s, loss=32.8]"
          ]
        },
        {
          "name": "stdout",
          "output_type": "stream",
          "text": [
            "Memory cleared. GPU memory: 5982 MB\n"
          ]
        },
        {
          "name": "stderr",
          "output_type": "stream",
          "text": [
            "Epoch 2:  52%|█████▏    | 481/918 [02:16<02:36,  2.79it/s, loss=69.8]"
          ]
        },
        {
          "name": "stdout",
          "output_type": "stream",
          "text": [
            "Memory cleared. GPU memory: 6042 MB\n"
          ]
        },
        {
          "name": "stderr",
          "output_type": "stream",
          "text": [
            "Epoch 2:  55%|█████▍    | 501/918 [02:22<02:23,  2.90it/s, loss=74.4]"
          ]
        },
        {
          "name": "stdout",
          "output_type": "stream",
          "text": [
            "Memory cleared. GPU memory: 6051 MB\n"
          ]
        },
        {
          "name": "stderr",
          "output_type": "stream",
          "text": [
            "Epoch 2:  57%|█████▋    | 521/918 [02:28<02:19,  2.84it/s, loss=1.89]"
          ]
        },
        {
          "name": "stdout",
          "output_type": "stream",
          "text": [
            "Memory cleared. GPU memory: 5917 MB\n"
          ]
        },
        {
          "name": "stderr",
          "output_type": "stream",
          "text": [
            "Epoch 2:  59%|█████▉    | 541/918 [02:33<02:07,  2.95it/s, loss=0.058]"
          ]
        },
        {
          "name": "stdout",
          "output_type": "stream",
          "text": [
            "Memory cleared. GPU memory: 5910 MB\n"
          ]
        },
        {
          "name": "stderr",
          "output_type": "stream",
          "text": [
            "Epoch 2:  61%|██████    | 561/918 [02:39<02:06,  2.81it/s, loss=90.1]"
          ]
        },
        {
          "name": "stdout",
          "output_type": "stream",
          "text": [
            "Memory cleared. GPU memory: 6075 MB\n"
          ]
        },
        {
          "name": "stderr",
          "output_type": "stream",
          "text": [
            "Epoch 2:  63%|██████▎   | 581/918 [02:44<01:58,  2.84it/s, loss=120]"
          ]
        },
        {
          "name": "stdout",
          "output_type": "stream",
          "text": [
            "Memory cleared. GPU memory: 6086 MB\n"
          ]
        },
        {
          "name": "stderr",
          "output_type": "stream",
          "text": [
            "Epoch 2:  65%|██████▌   | 601/918 [02:50<01:47,  2.96it/s, loss=0.0601]"
          ]
        },
        {
          "name": "stdout",
          "output_type": "stream",
          "text": [
            "Memory cleared. GPU memory: 5910 MB\n"
          ]
        },
        {
          "name": "stderr",
          "output_type": "stream",
          "text": [
            "Epoch 2:  68%|██████▊   | 621/918 [02:56<01:42,  2.88it/s, loss=79.6]"
          ]
        },
        {
          "name": "stdout",
          "output_type": "stream",
          "text": [
            "Memory cleared. GPU memory: 6098 MB\n"
          ]
        },
        {
          "name": "stderr",
          "output_type": "stream",
          "text": [
            "Epoch 2:  70%|██████▉   | 641/918 [03:02<01:39,  2.80it/s, loss=31]"
          ]
        },
        {
          "name": "stdout",
          "output_type": "stream",
          "text": [
            "Memory cleared. GPU memory: 5972 MB\n"
          ]
        },
        {
          "name": "stderr",
          "output_type": "stream",
          "text": [
            "Epoch 2:  72%|███████▏  | 661/918 [03:07<01:31,  2.80it/s, loss=84.4]"
          ]
        },
        {
          "name": "stdout",
          "output_type": "stream",
          "text": [
            "Memory cleared. GPU memory: 6073 MB\n"
          ]
        },
        {
          "name": "stderr",
          "output_type": "stream",
          "text": [
            "Epoch 2:  74%|███████▍  | 681/918 [03:13<01:21,  2.89it/s, loss=7.54]"
          ]
        },
        {
          "name": "stdout",
          "output_type": "stream",
          "text": [
            "Memory cleared. GPU memory: 5922 MB\n"
          ]
        },
        {
          "name": "stderr",
          "output_type": "stream",
          "text": [
            "Epoch 2:  76%|███████▋  | 701/918 [03:19<01:18,  2.77it/s, loss=84.6]"
          ]
        },
        {
          "name": "stdout",
          "output_type": "stream",
          "text": [
            "Memory cleared. GPU memory: 6050 MB\n"
          ]
        },
        {
          "name": "stderr",
          "output_type": "stream",
          "text": [
            "Epoch 2:  79%|███████▊  | 721/918 [03:24<01:08,  2.86it/s, loss=70.6]"
          ]
        },
        {
          "name": "stdout",
          "output_type": "stream",
          "text": [
            "Memory cleared. GPU memory: 6065 MB\n"
          ]
        },
        {
          "name": "stderr",
          "output_type": "stream",
          "text": [
            "Epoch 2:  81%|████████  | 741/918 [03:30<01:00,  2.92it/s, loss=66.4]"
          ]
        },
        {
          "name": "stdout",
          "output_type": "stream",
          "text": [
            "Memory cleared. GPU memory: 6044 MB\n"
          ]
        },
        {
          "name": "stderr",
          "output_type": "stream",
          "text": [
            "Epoch 2:  83%|████████▎ | 761/918 [03:36<00:56,  2.79it/s, loss=13.7]"
          ]
        },
        {
          "name": "stdout",
          "output_type": "stream",
          "text": [
            "Memory cleared. GPU memory: 5930 MB\n"
          ]
        },
        {
          "name": "stderr",
          "output_type": "stream",
          "text": [
            "Epoch 2:  85%|████████▌ | 781/918 [03:41<00:46,  2.97it/s, loss=0.0614]"
          ]
        },
        {
          "name": "stdout",
          "output_type": "stream",
          "text": [
            "Memory cleared. GPU memory: 5910 MB\n"
          ]
        },
        {
          "name": "stderr",
          "output_type": "stream",
          "text": [
            "Epoch 2:  87%|████████▋ | 801/918 [03:47<00:41,  2.80it/s, loss=105]"
          ]
        },
        {
          "name": "stdout",
          "output_type": "stream",
          "text": [
            "Memory cleared. GPU memory: 6106 MB\n"
          ]
        },
        {
          "name": "stderr",
          "output_type": "stream",
          "text": [
            "Epoch 2:  89%|████████▉ | 821/918 [03:52<00:34,  2.81it/s, loss=102]"
          ]
        },
        {
          "name": "stdout",
          "output_type": "stream",
          "text": [
            "Memory cleared. GPU memory: 6102 MB\n"
          ]
        },
        {
          "name": "stderr",
          "output_type": "stream",
          "text": [
            "Epoch 2:  92%|█████████▏| 841/918 [03:58<00:27,  2.83it/s, loss=39.1]"
          ]
        },
        {
          "name": "stdout",
          "output_type": "stream",
          "text": [
            "Memory cleared. GPU memory: 5979 MB\n"
          ]
        },
        {
          "name": "stderr",
          "output_type": "stream",
          "text": [
            "Epoch 2:  94%|█████████▍| 861/918 [04:04<00:19,  2.97it/s, loss=0.0616]"
          ]
        },
        {
          "name": "stdout",
          "output_type": "stream",
          "text": [
            "Memory cleared. GPU memory: 5911 MB\n"
          ]
        },
        {
          "name": "stderr",
          "output_type": "stream",
          "text": [
            "Epoch 2:  96%|█████████▌| 881/918 [04:09<00:13,  2.82it/s, loss=101]"
          ]
        },
        {
          "name": "stdout",
          "output_type": "stream",
          "text": [
            "Memory cleared. GPU memory: 6091 MB\n"
          ]
        },
        {
          "name": "stderr",
          "output_type": "stream",
          "text": [
            "Epoch 2:  98%|█████████▊| 901/918 [04:15<00:06,  2.80it/s, loss=125]"
          ]
        },
        {
          "name": "stdout",
          "output_type": "stream",
          "text": [
            "Memory cleared. GPU memory: 6097 MB\n"
          ]
        },
        {
          "name": "stderr",
          "output_type": "stream",
          "text": [
            "Epoch 2: 100%|██████████| 918/918 [04:20<00:00,  3.53it/s, loss=1.77]\n"
          ]
        },
        {
          "name": "stdout",
          "output_type": "stream",
          "text": [
            "Epoch 2 average loss: 61.8027\n",
            "GPU memory after epoch: 5916 MB\n",
            "Saving 8-bit model...\n",
            "Distilled model saved as 'distilled_llama_1b_8bit'.\n",
            "Memory cleared. GPU memory: 2470 MB\n",
            "Process completed successfully.\n"
          ]
        }
      ],
      "source": [
        "import torch\n",
        "import torch.nn.functional as F\n",
        "import torch.nn as nn\n",
        "import gc\n",
        "from transformers import (\n",
        "    AutoTokenizer,\n",
        "    AutoModelForCausalLM,\n",
        "    DataCollatorForLanguageModeling,\n",
        "    get_scheduler,\n",
        "    BitsAndBytesConfig\n",
        ")\n",
        "from datasets import load_dataset\n",
        "from torch.utils.data import DataLoader\n",
        "from tqdm import tqdm\n",
        "\n",
        "# Explicitly import bitsandbytes correctly\n",
        "try:\n",
        "    import bitsandbytes as bnb\n",
        "except ImportError:\n",
        "    raise ImportError()\n",
        "\n",
        "def clear_gpu_memory():\n",
        "    gc.collect()\n",
        "    if torch.cuda.is_available():\n",
        "        torch.cuda.empty_cache()\n",
        "        torch.cuda.synchronize()\n",
        "    print(f\"Memory cleared. GPU memory: {torch.cuda.memory_allocated() // 1024**2} MB\")\n",
        "\n",
        "def main():\n",
        "    device = torch.device(\"cuda\" if torch.cuda.is_available() else \"cpu\")\n",
        "    print(f\"Using device: {device}\")\n",
        "\n",
        "    if torch.cuda.is_available():\n",
        "        print(f\"CUDA Version: {torch.version.cuda}\")\n",
        "        print(f\"BitsAndBytes Version: {bnb.__version__}\")\n",
        "        print(f\"Initial GPU memory: {torch.cuda.memory_allocated() // 1024**2} MB\")\n",
        "\n",
        "    # Define model identifiers from the Hugging Face model hub\n",
        "    teacher_model_id = \"meta-llama/llama-3.2-3b\"  # Replace with actual identifier\n",
        "    student_model_id = \"meta-llama/llama-3.2-1b\"  # Replace with actual identifier\n",
        "\n",
        "    # Create 8-bit quantization configuration\n",
        "    quantization_config = BitsAndBytesConfig(\n",
        "        load_in_8bit=True,\n",
        "        llm_int8_threshold=6.0,\n",
        "        llm_int8_has_fp16_weight=False,\n",
        "        bnb_4bit_compute_dtype=torch.float16\n",
        "    )\n",
        "\n",
        "    # Load the tokenizer first\n",
        "    print(\"Loading tokenizer...\")\n",
        "    tokenizer = AutoTokenizer.from_pretrained(teacher_model_id)\n",
        "    if tokenizer.pad_token is None:\n",
        "        tokenizer.pad_token = tokenizer.eos_token\n",
        "\n",
        "    # Load teacher model with BitsAndBytesConfig in evaluation mode\n",
        "    print(\"Loading teacher model in 8-bit...\")\n",
        "    teacher_model = AutoModelForCausalLM.from_pretrained(\n",
        "        teacher_model_id,\n",
        "        quantization_config=quantization_config,\n",
        "        device_map=\"auto\"\n",
        "    )\n",
        "    teacher_model.eval()  # Set to evaluation mode\n",
        "    print(f\"Teacher model loaded. GPU memory: {torch.cuda.memory_allocated() // 1024**2} MB\")\n",
        "\n",
        "    # Load student model with BitsAndBytesConfig in training mode\n",
        "    print(\"Loading student model in 8-bit...\")\n",
        "    student_model = AutoModelForCausalLM.from_pretrained(\n",
        "        student_model_id,\n",
        "        quantization_config=quantization_config,\n",
        "        device_map=\"auto\"\n",
        "    )\n",
        "    student_model.train()  # Set to training mode\n",
        "    print(f\"Student model loaded. GPU memory: {torch.cuda.memory_allocated() // 1024**2} MB\")\n",
        "\n",
        "    # Load a sample dataset (using WikiText-2 as an example)\n",
        "    dataset = load_dataset(\"wikitext\", \"wikitext-2-raw-v1\", split=\"train[:5%]\")  # Use smaller portion\n",
        "\n",
        "    # Tokenize the dataset; adjust max_length as needed\n",
        "    def tokenize_function(example):\n",
        "        return tokenizer(example[\"text\"], truncation=True, max_length=256)\n",
        "\n",
        "    tokenized_dataset = dataset.map(tokenize_function, batched=True, remove_columns=[\"text\"])\n",
        "\n",
        "    # Use a data collator for causal language modeling\n",
        "    data_collator = DataCollatorForLanguageModeling(tokenizer=tokenizer, mlm=False)\n",
        "\n",
        "    # Create a DataLoader with smaller batch size\n",
        "    batch_size = 2  # Adjust based on available memory\n",
        "    dataloader = DataLoader(\n",
        "        tokenized_dataset,\n",
        "        batch_size=batch_size,\n",
        "        shuffle=True,\n",
        "        collate_fn=data_collator\n",
        "    )\n",
        "\n",
        "    # Define optimizer using BitsAndBytes 8-bit optimizer\n",
        "    print(\"Setting up 8-bit optimizer...\")\n",
        "    optimizer = bnb.optim.AdamW8bit(\n",
        "        student_model.parameters(),\n",
        "        lr=5e-5,\n",
        "        betas=(0.9, 0.999),\n",
        "        eps=1e-8,\n",
        "        weight_decay=0.01\n",
        "    )\n",
        "\n",
        "    num_epochs = 2\n",
        "    total_steps = num_epochs * len(dataloader)\n",
        "\n",
        "    # Set up scheduler\n",
        "    scheduler = get_scheduler(\n",
        "        name=\"linear\",\n",
        "        optimizer=optimizer,\n",
        "        num_warmup_steps=total_steps // 10,\n",
        "        num_training_steps=total_steps\n",
        "    )\n",
        "\n",
        "    # Temperature for softening logits during distillation\n",
        "    temperature = 2.0\n",
        "    kl_loss_fct = nn.KLDivLoss(reduction=\"batchmean\")\n",
        "\n",
        "    # Training loop for distillation\n",
        "    for epoch in range(num_epochs):\n",
        "        epoch_loss = 0.0\n",
        "        progress_bar = tqdm(dataloader, desc=f\"Epoch {epoch+1}\")\n",
        "\n",
        "        for step, batch in enumerate(progress_bar):\n",
        "            optimizer.zero_grad()\n",
        "            input_ids = batch[\"input_ids\"].to(device)\n",
        "            attention_mask = batch[\"attention_mask\"].to(device)\n",
        "            with torch.no_grad():\n",
        "                teacher_outputs = teacher_model(input_ids=input_ids, attention_mask=attention_mask)\n",
        "                teacher_logits = teacher_outputs.logits / temperature\n",
        "                del teacher_outputs\n",
        "            student_outputs = student_model(input_ids=input_ids, attention_mask=attention_mask)\n",
        "            student_logits = student_outputs.logits / temperature\n",
        "            del student_outputs\n",
        "\n",
        "            loss = kl_loss_fct(\n",
        "                F.log_softmax(student_logits, dim=-1),\n",
        "                F.softmax(teacher_logits, dim=-1)\n",
        "            ) * (temperature ** 2)\n",
        "\n",
        "            del teacher_logits\n",
        "            del student_logits\n",
        "\n",
        "            loss.backward()\n",
        "            optimizer.step()\n",
        "            scheduler.step()\n",
        "\n",
        "            epoch_loss += loss.item()\n",
        "            progress_bar.set_postfix(loss=loss.item())\n",
        "\n",
        "        avg_loss = epoch_loss / len(dataloader)\n",
        "        print(f\"Epoch {epoch+1} average loss: {avg_loss:.4f}\")\n",
        "        print(f\"GPU memory after epoch: {torch.cuda.memory_allocated() // 1024**2} MB\")\n",
        "\n",
        "    print(\"Saving 8-bit model...\")\n",
        "\n",
        "    student_model.save_pretrained(\"distilled_llama_1b_8bit\", safe_serialization=True)\n",
        "    tokenizer.save_pretrained(\"distilled_llama_1b_8bit\")\n",
        "\n",
        "    with open(\"distilled_llama_1b_8bit/quantization_config.json\", \"w\") as f:\n",
        "        f.write(quantization_config.to_json_string())\n",
        "\n",
        "    print(\"Distilled model saved as 'distilled_llama_1b_8bit'.\")\n",
        "\n",
        "    del teacher_model\n",
        "    del student_model\n",
        "    clear_gpu_memory()\n",
        "    print(\"Process completed successfully.\")\n",
        "\n",
        "if __name__ == \"__main__\":\n",
        "    main()"
      ]
    },
    {
      "cell_type": "code",
      "execution_count": null,
      "metadata": {
        "colab": {
          "base_uri": "https://localhost:8080/",
          "height": 1000,
          "referenced_widgets": [
            "d73b9ac5544146c9bc37033b365868bf",
            "ce0e00762a6f457f84e691eada5f358b",
            "c55e5cc2f2c647e79db41c78154b299a",
            "9f802ecc3e1f4edd837fe7044eadac37",
            "0f7cc2dd732147e2afb9e783e4031eba",
            "78bc9658813e420286289ebf4fee38e0",
            "b522656d977540e69bd3f17d85c30384",
            "09f9c9243b47411cb0a915cce5311934",
            "adc49cc64ef3410fb9667abea6fc1315",
            "aa7c8950c8d542dd8804d97971793d03",
            "e88c4260a9264addb193cf1cc3d8876e",
            "0b2bb4827e434680b73191b835299ea9",
            "fbd13790c4824ea2a4daa032dc112d0a",
            "66d7b024559848cebd09c81ddcd50ed6",
            "5df682fcafe4471b86def34dd3e35561",
            "d91e6f90171744a6a8df12b4d145cd7f",
            "197c6ffba89043b5b65be5f51444a176",
            "95b7dd8634df4d3abf658f1e5df482f3",
            "ec42a668573d4e178418e11e7047bf62",
            "435cd34598794a488e5557e2f77980b5",
            "0e34239ee9e04f8c9efd40cf59752d49",
            "11e130962fa140bab00ab8cc523ef7d4",
            "eb075f9ae9cd4c8498beedf504bd89fe",
            "fcf808b7c1bb4e808279e337f9490466",
            "e8ce54207dfd43e9b54ba356bc80b66c",
            "de981ef73a804b5c81ab10256553dfce",
            "58d6b1acd6bf4a10b931486d659cd868",
            "907d18af32854c7092b3712f64730189",
            "a84bf54024bf48739c83cffdcbcbcee0",
            "c787c5d7c15c43babb3eff34704bfa76",
            "3ece1e17b4d14e75af6abc351506bf3a",
            "6cdec0062df54921b470cfd633ebf38a",
            "46a7b7260e6e4734bc5ae8f8e8eeaf80"
          ]
        },
        "id": "pxc632G6ODyZ",
        "outputId": "b3c4748e-76c6-44b0-d730-7d6aabfe69ee"
      },
      "outputs": [
        {
          "name": "stdout",
          "output_type": "stream",
          "text": [
            "Using device: cuda\n"
          ]
        },
        {
          "data": {
            "application/vnd.jupyter.widget-view+json": {
              "model_id": "d73b9ac5544146c9bc37033b365868bf",
              "version_major": 2,
              "version_minor": 0
            },
            "text/plain": [
              "Loading checkpoint shards:   0%|          | 0/2 [00:00<?, ?it/s]"
            ]
          },
          "metadata": {},
          "output_type": "display_data"
        },
        {
          "name": "stderr",
          "output_type": "stream",
          "text": [
            "/usr/local/lib/python3.11/dist-packages/transformers/quantizers/auto.py:206: UserWarning: You passed `quantization_config` or equivalent parameters to `from_pretrained` but the model you're loading already has a `quantization_config` attribute. The `quantization_config` from the model will be used.\n",
            "  warnings.warn(warning_msg)\n",
            "The attention mask is not set and cannot be inferred from input because pad token is same as eos token. As a consequence, you may observe unexpected behavior. Please pass your input's `attention_mask` to obtain reliable results.\n"
          ]
        },
        {
          "name": "stdout",
          "output_type": "stream",
          "text": [
            "\n",
            "--- Code Generation Evaluation ---\n",
            "\n",
            "Prompt:\n",
            "def add(a, b):\n",
            "    \"\"\"Return the sum of a and b.\"\"\"\n",
            "    \n",
            "\n",
            "Teacher Model Output:\n",
            "def add(a, b):\n",
            "    \"\"\"Return the sum of a and b.\"\"\"\n",
            "    \n",
            "\n",
            "Student Model Output:\n",
            "def add(a, b):\n",
            "    \"\"\"Return the sum of a and b.\"\"\"\n",
            "    \n",
            "\n",
            "Distilled Model Output:\n",
            "def add(a, b):\n",
            "    \"\"\"Return the sum of a and b.\"\"\"\n",
            "    \n",
            "\n",
            "Prompt:\n",
            "def factorial(n):\n",
            "    \"\"\"Return the factorial of n.\"\"\"\n",
            "    \n",
            "\n",
            "Teacher Model Output:\n",
            "def factorial(n):\n",
            "    \"\"\"Return the factorial of n.\"\"\"\n",
            "    \n",
            "\n",
            "Student Model Output:\n",
            "def factorial(n):\n",
            "    \"\"\"Return the factorial of n.\"\"\"\n",
            "    \n",
            "\n",
            "Distilled Model Output:\n",
            "def factorial(n):\n",
            "    \"\"\"Return the factorial of n.\"\"\"\n",
            "    \n",
            "\n",
            "Prompt:\n",
            "def is_prime(n):\n",
            "    \"\"\"Return True if n is a prime number, False otherwise.\"\"\"\n",
            "    \n",
            "\n",
            "Teacher Model Output:\n",
            "def is_prime(n):\n",
            "    \"\"\"Return True if n is a prime number, False otherwise.\"\"\"\n",
            "    \n",
            "\n",
            "Student Model Output:\n",
            "def is_prime(n):\n",
            "    \"\"\"Return True if n is a prime number, False otherwise.\"\"\"\n",
            "    \n",
            "\n",
            "Distilled Model Output:\n",
            "def is_prime(n):\n",
            "    \"\"\"Return True if n is a prime number, False otherwise.\"\"\"\n",
            "    \n",
            "\n",
            "--- Perplexity Evaluation on WikiText-2 ---\n"
          ]
        },
        {
          "data": {
            "application/vnd.jupyter.widget-view+json": {
              "model_id": "0b2bb4827e434680b73191b835299ea9",
              "version_major": 2,
              "version_minor": 0
            },
            "text/plain": [
              "Map:   0%|          | 0/3760 [00:00<?, ? examples/s]"
            ]
          },
          "metadata": {},
          "output_type": "display_data"
        },
        {
          "name": "stderr",
          "output_type": "stream",
          "text": [
            "Evaluating Perplexity: 100%|██████████| 940/940 [02:14<00:00,  6.96it/s]\n"
          ]
        },
        {
          "data": {
            "application/vnd.jupyter.widget-view+json": {
              "model_id": "eb075f9ae9cd4c8498beedf504bd89fe",
              "version_major": 2,
              "version_minor": 0
            },
            "text/plain": [
              "Map:   0%|          | 0/3760 [00:00<?, ? examples/s]"
            ]
          },
          "metadata": {},
          "output_type": "display_data"
        },
        {
          "name": "stderr",
          "output_type": "stream",
          "text": [
            "Evaluating Perplexity: 100%|██████████| 940/940 [01:18<00:00, 12.03it/s]\n",
            "Evaluating Perplexity: 100%|██████████| 940/940 [01:18<00:00, 12.02it/s]"
          ]
        },
        {
          "name": "stdout",
          "output_type": "stream",
          "text": [
            "\n",
            "Perplexity Scores:\n",
            "Teacher Model Perplexity: 16.57\n",
            "Student Model Perplexity: 21.07\n",
            "Distilled Model Perplexity: 20.32\n"
          ]
        },
        {
          "name": "stderr",
          "output_type": "stream",
          "text": [
            "\n"
          ]
        }
      ],
      "source": [
        "import torch\n",
        "import torch.nn.functional as F\n",
        "import numpy as np\n",
        "from transformers import (\n",
        "    AutoTokenizer,\n",
        "    AutoModelForCausalLM,\n",
        "    DataCollatorForLanguageModeling,\n",
        ")\n",
        "from datasets import load_dataset\n",
        "from torch.utils.data import DataLoader\n",
        "from tqdm import tqdm\n",
        "\n",
        "def generate_text(model, tokenizer, prompt, max_length=256, temperature=0.7, num_return_sequences=1):\n",
        "    input_ids = tokenizer(prompt, return_tensors=\"pt\").input_ids.to(model.device)\n",
        "    outputs = model.generate(\n",
        "        input_ids,\n",
        "        max_length=max_length,\n",
        "        temperature=temperature,\n",
        "        num_return_sequences=num_return_sequences,\n",
        "        do_sample=True,\n",
        "        pad_token_id=tokenizer.eos_token_id\n",
        "    )\n",
        "    return [tokenizer.decode(output, skip_special_tokens=True) for output in outputs]\n",
        "\n",
        "def evaluate_perplexity(model, tokenizer, dataset, batch_size=4):\n",
        "    model.eval()\n",
        "\n",
        "    # Tokenize the dataset\n",
        "    def tokenize_function(examples):\n",
        "        return tokenizer(examples[\"text\"], truncation=True, max_length=512)\n",
        "    tokenized_dataset = dataset.map(tokenize_function, batched=True, remove_columns=[\"text\"])\n",
        "\n",
        "    # Use a collator that pads batches (no masked language modeling needed)\n",
        "    data_collator = DataCollatorForLanguageModeling(tokenizer=tokenizer, mlm=False)\n",
        "    dataloader = DataLoader(tokenized_dataset, batch_size=batch_size, shuffle=False, collate_fn=data_collator)\n",
        "\n",
        "    total_loss = 0.0\n",
        "    total_tokens = 0\n",
        "    for batch in tqdm(dataloader, desc=\"Evaluating Perplexity\"):\n",
        "        batch = {k: v.to(model.device) for k, v in batch.items()}\n",
        "        with torch.no_grad():\n",
        "            outputs = model(**batch)\n",
        "        # outputs.loss is the average loss per token; multiply by total tokens in batch\n",
        "        loss = outputs.loss.item() * batch[\"input_ids\"].numel()\n",
        "        total_loss += loss\n",
        "        total_tokens += batch[\"input_ids\"].numel()\n",
        "    avg_loss = total_loss / total_tokens\n",
        "    ppl = np.exp(avg_loss)\n",
        "    return ppl\n",
        "\n",
        "def main():\n",
        "    device = torch.device(\"cuda\" if torch.cuda.is_available() else \"mps\" if torch.backends.mps.is_available() else \"cpu\")\n",
        "    print(\"Using device:\", device)\n",
        "\n",
        "    teacher_model_id = \"meta-llama/llama-3.2-3b\"  # 8-bit teacher model\n",
        "    student_model_id = \"meta-llama/llama-3.2-1b\"    # 8-bit student model\n",
        "    distilled_model_path = \"distilled_llama_1b_8bit\"       # 8-bit distilled model saved locally\n",
        "\n",
        "    quantization_config = BitsAndBytesConfig(\n",
        "        load_in_8bit=True,\n",
        "        llm_int8_threshold=6.0,\n",
        "        llm_int8_has_fp16_weight=False,\n",
        "        bnb_4bit_compute_dtype=torch.float16\n",
        "    )\n",
        "\n",
        "    tokenizer = AutoTokenizer.from_pretrained(teacher_model_id)\n",
        "    if tokenizer.pad_token is None:\n",
        "        tokenizer.pad_token = tokenizer.eos_token\n",
        "\n",
        "    teacher_model = AutoModelForCausalLM.from_pretrained(\n",
        "        teacher_model_id,\n",
        "        device_map=\"auto\",\n",
        "        quantization_config=quantization_config\n",
        "    )\n",
        "    teacher_model.eval()\n",
        "\n",
        "    student_model = AutoModelForCausalLM.from_pretrained(\n",
        "        student_model_id,\n",
        "        device_map=\"auto\",\n",
        "        quantization_config=quantization_config\n",
        "    )\n",
        "    student_model.eval() \n",
        "\n",
        "    distilled_model = AutoModelForCausalLM.from_pretrained(\n",
        "        distilled_model_path,\n",
        "        device_map=\"auto\",\n",
        "        quantization_config=quantization_config\n",
        "    )\n",
        "    distilled_model.eval()\n",
        "\n",
        "    print(\"\\n--- Code Generation Evaluation ---\")\n",
        "    code_prompts = [\n",
        "        \"def add(a, b):\\n    \\\"\\\"\\\"Return the sum of a and b.\\\"\\\"\\\"\\n    \",\n",
        "        \"def factorial(n):\\n    \\\"\\\"\\\"Return the factorial of n.\\\"\\\"\\\"\\n    \",\n",
        "        \"def is_prime(n):\\n    \\\"\\\"\\\"Return True if n is a prime number, False otherwise.\\\"\\\"\\\"\\n    \"\n",
        "    ]\n",
        "\n",
        "    for prompt in code_prompts:\n",
        "        print(\"\\nPrompt:\")\n",
        "        print(prompt)\n",
        "        teacher_output = generate_text(teacher_model, tokenizer, prompt)[0]\n",
        "        student_output = generate_text(student_model, tokenizer, prompt)[0]\n",
        "        distilled_output = generate_text(distilled_model, tokenizer, prompt)[0]\n",
        "\n",
        "        print(\"\\nTeacher Model Output:\")\n",
        "        print(teacher_output)\n",
        "        print(\"\\nStudent Model Output:\")\n",
        "        print(student_output)\n",
        "        print(\"\\nDistilled Model Output:\")\n",
        "        print(distilled_output)\n",
        "\n",
        "    print(\"\\n--- Perplexity Evaluation on WikiText-2 ---\")\n",
        "    wikitext_dataset = load_dataset(\"wikitext\", \"wikitext-2-raw-v1\", split=\"validation\")\n",
        "\n",
        "    teacher_ppl = evaluate_perplexity(teacher_model, tokenizer, wikitext_dataset, batch_size=4)\n",
        "    student_ppl = evaluate_perplexity(student_model, tokenizer, wikitext_dataset, batch_size=4)\n",
        "    distilled_ppl = evaluate_perplexity(distilled_model, tokenizer, wikitext_dataset, batch_size=4)\n",
        "\n",
        "    print(\"\\nPerplexity Scores:\")\n",
        "    print(f\"Teacher Model Perplexity: {teacher_ppl:.2f}\")\n",
        "    print(f\"Student Model Perplexity: {student_ppl:.2f}\")\n",
        "    print(f\"Distilled Model Perplexity: {distilled_ppl:.2f}\")\n",
        "\n",
        "if __name__ == \"__main__\":\n",
        "    main()"
      ]
    }
  ],
  "metadata": {
    "accelerator": "GPU",
    "colab": {
      "gpuType": "A100",
      "machine_shape": "hm",
      "provenance": []
    },
    "kernelspec": {
      "display_name": "Python 3",
      "name": "python3"
    },
    "language_info": {
      "name": "python"
    },
    "widgets": {
      "application/vnd.jupyter.widget-state+json": {
        "09f9c9243b47411cb0a915cce5311934": {
          "model_module": "@jupyter-widgets/base",
          "model_module_version": "1.2.0",
          "model_name": "LayoutModel",
          "state": {
            "_model_module": "@jupyter-widgets/base",
            "_model_module_version": "1.2.0",
            "_model_name": "LayoutModel",
            "_view_count": null,
            "_view_module": "@jupyter-widgets/base",
            "_view_module_version": "1.2.0",
            "_view_name": "LayoutView",
            "align_content": null,
            "align_items": null,
            "align_self": null,
            "border": null,
            "bottom": null,
            "display": null,
            "flex": null,
            "flex_flow": null,
            "grid_area": null,
            "grid_auto_columns": null,
            "grid_auto_flow": null,
            "grid_auto_rows": null,
            "grid_column": null,
            "grid_gap": null,
            "grid_row": null,
            "grid_template_areas": null,
            "grid_template_columns": null,
            "grid_template_rows": null,
            "height": null,
            "justify_content": null,
            "justify_items": null,
            "left": null,
            "margin": null,
            "max_height": null,
            "max_width": null,
            "min_height": null,
            "min_width": null,
            "object_fit": null,
            "object_position": null,
            "order": null,
            "overflow": null,
            "overflow_x": null,
            "overflow_y": null,
            "padding": null,
            "right": null,
            "top": null,
            "visibility": null,
            "width": null
          }
        },
        "0b2bb4827e434680b73191b835299ea9": {
          "model_module": "@jupyter-widgets/controls",
          "model_module_version": "1.5.0",
          "model_name": "HBoxModel",
          "state": {
            "_dom_classes": [],
            "_model_module": "@jupyter-widgets/controls",
            "_model_module_version": "1.5.0",
            "_model_name": "HBoxModel",
            "_view_count": null,
            "_view_module": "@jupyter-widgets/controls",
            "_view_module_version": "1.5.0",
            "_view_name": "HBoxView",
            "box_style": "",
            "children": [
              "IPY_MODEL_fbd13790c4824ea2a4daa032dc112d0a",
              "IPY_MODEL_66d7b024559848cebd09c81ddcd50ed6",
              "IPY_MODEL_5df682fcafe4471b86def34dd3e35561"
            ],
            "layout": "IPY_MODEL_d91e6f90171744a6a8df12b4d145cd7f"
          }
        },
        "0e34239ee9e04f8c9efd40cf59752d49": {
          "model_module": "@jupyter-widgets/base",
          "model_module_version": "1.2.0",
          "model_name": "LayoutModel",
          "state": {
            "_model_module": "@jupyter-widgets/base",
            "_model_module_version": "1.2.0",
            "_model_name": "LayoutModel",
            "_view_count": null,
            "_view_module": "@jupyter-widgets/base",
            "_view_module_version": "1.2.0",
            "_view_name": "LayoutView",
            "align_content": null,
            "align_items": null,
            "align_self": null,
            "border": null,
            "bottom": null,
            "display": null,
            "flex": null,
            "flex_flow": null,
            "grid_area": null,
            "grid_auto_columns": null,
            "grid_auto_flow": null,
            "grid_auto_rows": null,
            "grid_column": null,
            "grid_gap": null,
            "grid_row": null,
            "grid_template_areas": null,
            "grid_template_columns": null,
            "grid_template_rows": null,
            "height": null,
            "justify_content": null,
            "justify_items": null,
            "left": null,
            "margin": null,
            "max_height": null,
            "max_width": null,
            "min_height": null,
            "min_width": null,
            "object_fit": null,
            "object_position": null,
            "order": null,
            "overflow": null,
            "overflow_x": null,
            "overflow_y": null,
            "padding": null,
            "right": null,
            "top": null,
            "visibility": null,
            "width": null
          }
        },
        "0f7cc2dd732147e2afb9e783e4031eba": {
          "model_module": "@jupyter-widgets/base",
          "model_module_version": "1.2.0",
          "model_name": "LayoutModel",
          "state": {
            "_model_module": "@jupyter-widgets/base",
            "_model_module_version": "1.2.0",
            "_model_name": "LayoutModel",
            "_view_count": null,
            "_view_module": "@jupyter-widgets/base",
            "_view_module_version": "1.2.0",
            "_view_name": "LayoutView",
            "align_content": null,
            "align_items": null,
            "align_self": null,
            "border": null,
            "bottom": null,
            "display": null,
            "flex": null,
            "flex_flow": null,
            "grid_area": null,
            "grid_auto_columns": null,
            "grid_auto_flow": null,
            "grid_auto_rows": null,
            "grid_column": null,
            "grid_gap": null,
            "grid_row": null,
            "grid_template_areas": null,
            "grid_template_columns": null,
            "grid_template_rows": null,
            "height": null,
            "justify_content": null,
            "justify_items": null,
            "left": null,
            "margin": null,
            "max_height": null,
            "max_width": null,
            "min_height": null,
            "min_width": null,
            "object_fit": null,
            "object_position": null,
            "order": null,
            "overflow": null,
            "overflow_x": null,
            "overflow_y": null,
            "padding": null,
            "right": null,
            "top": null,
            "visibility": null,
            "width": null
          }
        },
        "11e130962fa140bab00ab8cc523ef7d4": {
          "model_module": "@jupyter-widgets/controls",
          "model_module_version": "1.5.0",
          "model_name": "DescriptionStyleModel",
          "state": {
            "_model_module": "@jupyter-widgets/controls",
            "_model_module_version": "1.5.0",
            "_model_name": "DescriptionStyleModel",
            "_view_count": null,
            "_view_module": "@jupyter-widgets/base",
            "_view_module_version": "1.2.0",
            "_view_name": "StyleView",
            "description_width": ""
          }
        },
        "197c6ffba89043b5b65be5f51444a176": {
          "model_module": "@jupyter-widgets/base",
          "model_module_version": "1.2.0",
          "model_name": "LayoutModel",
          "state": {
            "_model_module": "@jupyter-widgets/base",
            "_model_module_version": "1.2.0",
            "_model_name": "LayoutModel",
            "_view_count": null,
            "_view_module": "@jupyter-widgets/base",
            "_view_module_version": "1.2.0",
            "_view_name": "LayoutView",
            "align_content": null,
            "align_items": null,
            "align_self": null,
            "border": null,
            "bottom": null,
            "display": null,
            "flex": null,
            "flex_flow": null,
            "grid_area": null,
            "grid_auto_columns": null,
            "grid_auto_flow": null,
            "grid_auto_rows": null,
            "grid_column": null,
            "grid_gap": null,
            "grid_row": null,
            "grid_template_areas": null,
            "grid_template_columns": null,
            "grid_template_rows": null,
            "height": null,
            "justify_content": null,
            "justify_items": null,
            "left": null,
            "margin": null,
            "max_height": null,
            "max_width": null,
            "min_height": null,
            "min_width": null,
            "object_fit": null,
            "object_position": null,
            "order": null,
            "overflow": null,
            "overflow_x": null,
            "overflow_y": null,
            "padding": null,
            "right": null,
            "top": null,
            "visibility": null,
            "width": null
          }
        },
        "23911f1f5fe44e1288cccab844cb0bb4": {
          "model_module": "@jupyter-widgets/controls",
          "model_module_version": "1.5.0",
          "model_name": "ProgressStyleModel",
          "state": {
            "_model_module": "@jupyter-widgets/controls",
            "_model_module_version": "1.5.0",
            "_model_name": "ProgressStyleModel",
            "_view_count": null,
            "_view_module": "@jupyter-widgets/base",
            "_view_module_version": "1.2.0",
            "_view_name": "StyleView",
            "bar_color": null,
            "description_width": ""
          }
        },
        "28f78f8fe9c74799a2676d95c7ea8cb8": {
          "model_module": "@jupyter-widgets/controls",
          "model_module_version": "1.5.0",
          "model_name": "DescriptionStyleModel",
          "state": {
            "_model_module": "@jupyter-widgets/controls",
            "_model_module_version": "1.5.0",
            "_model_name": "DescriptionStyleModel",
            "_view_count": null,
            "_view_module": "@jupyter-widgets/base",
            "_view_module_version": "1.2.0",
            "_view_name": "StyleView",
            "description_width": ""
          }
        },
        "2a46ec9da5bd4eb7aba17a2a0f3b9416": {
          "model_module": "@jupyter-widgets/base",
          "model_module_version": "1.2.0",
          "model_name": "LayoutModel",
          "state": {
            "_model_module": "@jupyter-widgets/base",
            "_model_module_version": "1.2.0",
            "_model_name": "LayoutModel",
            "_view_count": null,
            "_view_module": "@jupyter-widgets/base",
            "_view_module_version": "1.2.0",
            "_view_name": "LayoutView",
            "align_content": null,
            "align_items": null,
            "align_self": null,
            "border": null,
            "bottom": null,
            "display": null,
            "flex": null,
            "flex_flow": null,
            "grid_area": null,
            "grid_auto_columns": null,
            "grid_auto_flow": null,
            "grid_auto_rows": null,
            "grid_column": null,
            "grid_gap": null,
            "grid_row": null,
            "grid_template_areas": null,
            "grid_template_columns": null,
            "grid_template_rows": null,
            "height": null,
            "justify_content": null,
            "justify_items": null,
            "left": null,
            "margin": null,
            "max_height": null,
            "max_width": null,
            "min_height": null,
            "min_width": null,
            "object_fit": null,
            "object_position": null,
            "order": null,
            "overflow": null,
            "overflow_x": null,
            "overflow_y": null,
            "padding": null,
            "right": null,
            "top": null,
            "visibility": null,
            "width": null
          }
        },
        "333a49f26b3a467cb825d0c69c0fd6dc": {
          "model_module": "@jupyter-widgets/controls",
          "model_module_version": "1.5.0",
          "model_name": "HTMLModel",
          "state": {
            "_dom_classes": [],
            "_model_module": "@jupyter-widgets/controls",
            "_model_module_version": "1.5.0",
            "_model_name": "HTMLModel",
            "_view_count": null,
            "_view_module": "@jupyter-widgets/controls",
            "_view_module_version": "1.5.0",
            "_view_name": "HTMLView",
            "description": "",
            "description_tooltip": null,
            "layout": "IPY_MODEL_85684877b9f34cec98163f00087c2968",
            "placeholder": "​",
            "style": "IPY_MODEL_c67eb868a40e4bf4a1febad32b95e921",
            "value": " 2/2 [00:03&lt;00:00,  1.69s/it]"
          }
        },
        "3ece1e17b4d14e75af6abc351506bf3a": {
          "model_module": "@jupyter-widgets/controls",
          "model_module_version": "1.5.0",
          "model_name": "ProgressStyleModel",
          "state": {
            "_model_module": "@jupyter-widgets/controls",
            "_model_module_version": "1.5.0",
            "_model_name": "ProgressStyleModel",
            "_view_count": null,
            "_view_module": "@jupyter-widgets/base",
            "_view_module_version": "1.2.0",
            "_view_name": "StyleView",
            "bar_color": null,
            "description_width": ""
          }
        },
        "435cd34598794a488e5557e2f77980b5": {
          "model_module": "@jupyter-widgets/controls",
          "model_module_version": "1.5.0",
          "model_name": "ProgressStyleModel",
          "state": {
            "_model_module": "@jupyter-widgets/controls",
            "_model_module_version": "1.5.0",
            "_model_name": "ProgressStyleModel",
            "_view_count": null,
            "_view_module": "@jupyter-widgets/base",
            "_view_module_version": "1.2.0",
            "_view_name": "StyleView",
            "bar_color": null,
            "description_width": ""
          }
        },
        "46a7b7260e6e4734bc5ae8f8e8eeaf80": {
          "model_module": "@jupyter-widgets/controls",
          "model_module_version": "1.5.0",
          "model_name": "DescriptionStyleModel",
          "state": {
            "_model_module": "@jupyter-widgets/controls",
            "_model_module_version": "1.5.0",
            "_model_name": "DescriptionStyleModel",
            "_view_count": null,
            "_view_module": "@jupyter-widgets/base",
            "_view_module_version": "1.2.0",
            "_view_name": "StyleView",
            "description_width": ""
          }
        },
        "58d6b1acd6bf4a10b931486d659cd868": {
          "model_module": "@jupyter-widgets/base",
          "model_module_version": "1.2.0",
          "model_name": "LayoutModel",
          "state": {
            "_model_module": "@jupyter-widgets/base",
            "_model_module_version": "1.2.0",
            "_model_name": "LayoutModel",
            "_view_count": null,
            "_view_module": "@jupyter-widgets/base",
            "_view_module_version": "1.2.0",
            "_view_name": "LayoutView",
            "align_content": null,
            "align_items": null,
            "align_self": null,
            "border": null,
            "bottom": null,
            "display": null,
            "flex": null,
            "flex_flow": null,
            "grid_area": null,
            "grid_auto_columns": null,
            "grid_auto_flow": null,
            "grid_auto_rows": null,
            "grid_column": null,
            "grid_gap": null,
            "grid_row": null,
            "grid_template_areas": null,
            "grid_template_columns": null,
            "grid_template_rows": null,
            "height": null,
            "justify_content": null,
            "justify_items": null,
            "left": null,
            "margin": null,
            "max_height": null,
            "max_width": null,
            "min_height": null,
            "min_width": null,
            "object_fit": null,
            "object_position": null,
            "order": null,
            "overflow": null,
            "overflow_x": null,
            "overflow_y": null,
            "padding": null,
            "right": null,
            "top": null,
            "visibility": null,
            "width": null
          }
        },
        "5df682fcafe4471b86def34dd3e35561": {
          "model_module": "@jupyter-widgets/controls",
          "model_module_version": "1.5.0",
          "model_name": "HTMLModel",
          "state": {
            "_dom_classes": [],
            "_model_module": "@jupyter-widgets/controls",
            "_model_module_version": "1.5.0",
            "_model_name": "HTMLModel",
            "_view_count": null,
            "_view_module": "@jupyter-widgets/controls",
            "_view_module_version": "1.5.0",
            "_view_name": "HTMLView",
            "description": "",
            "description_tooltip": null,
            "layout": "IPY_MODEL_0e34239ee9e04f8c9efd40cf59752d49",
            "placeholder": "​",
            "style": "IPY_MODEL_11e130962fa140bab00ab8cc523ef7d4",
            "value": " 3760/3760 [00:00&lt;00:00, 16660.87 examples/s]"
          }
        },
        "5f5d08a4b1864858b49188f47c548961": {
          "model_module": "@jupyter-widgets/controls",
          "model_module_version": "1.5.0",
          "model_name": "HTMLModel",
          "state": {
            "_dom_classes": [],
            "_model_module": "@jupyter-widgets/controls",
            "_model_module_version": "1.5.0",
            "_model_name": "HTMLModel",
            "_view_count": null,
            "_view_module": "@jupyter-widgets/controls",
            "_view_module_version": "1.5.0",
            "_view_name": "HTMLView",
            "description": "",
            "description_tooltip": null,
            "layout": "IPY_MODEL_eccf29e3a9f54cff9c53ec80081f88c8",
            "placeholder": "​",
            "style": "IPY_MODEL_9094c1fd2d314568a58be10e1f526f2e",
            "value": "Loading checkpoint shards: 100%"
          }
        },
        "66d7b024559848cebd09c81ddcd50ed6": {
          "model_module": "@jupyter-widgets/controls",
          "model_module_version": "1.5.0",
          "model_name": "FloatProgressModel",
          "state": {
            "_dom_classes": [],
            "_model_module": "@jupyter-widgets/controls",
            "_model_module_version": "1.5.0",
            "_model_name": "FloatProgressModel",
            "_view_count": null,
            "_view_module": "@jupyter-widgets/controls",
            "_view_module_version": "1.5.0",
            "_view_name": "ProgressView",
            "bar_style": "success",
            "description": "",
            "description_tooltip": null,
            "layout": "IPY_MODEL_ec42a668573d4e178418e11e7047bf62",
            "max": 3760,
            "min": 0,
            "orientation": "horizontal",
            "style": "IPY_MODEL_435cd34598794a488e5557e2f77980b5",
            "value": 3760
          }
        },
        "680c78568c554303ac18d0e002face32": {
          "model_module": "@jupyter-widgets/base",
          "model_module_version": "1.2.0",
          "model_name": "LayoutModel",
          "state": {
            "_model_module": "@jupyter-widgets/base",
            "_model_module_version": "1.2.0",
            "_model_name": "LayoutModel",
            "_view_count": null,
            "_view_module": "@jupyter-widgets/base",
            "_view_module_version": "1.2.0",
            "_view_name": "LayoutView",
            "align_content": null,
            "align_items": null,
            "align_self": null,
            "border": null,
            "bottom": null,
            "display": null,
            "flex": null,
            "flex_flow": null,
            "grid_area": null,
            "grid_auto_columns": null,
            "grid_auto_flow": null,
            "grid_auto_rows": null,
            "grid_column": null,
            "grid_gap": null,
            "grid_row": null,
            "grid_template_areas": null,
            "grid_template_columns": null,
            "grid_template_rows": null,
            "height": null,
            "justify_content": null,
            "justify_items": null,
            "left": null,
            "margin": null,
            "max_height": null,
            "max_width": null,
            "min_height": null,
            "min_width": null,
            "object_fit": null,
            "object_position": null,
            "order": null,
            "overflow": null,
            "overflow_x": null,
            "overflow_y": null,
            "padding": null,
            "right": null,
            "top": null,
            "visibility": null,
            "width": null
          }
        },
        "6cdec0062df54921b470cfd633ebf38a": {
          "model_module": "@jupyter-widgets/base",
          "model_module_version": "1.2.0",
          "model_name": "LayoutModel",
          "state": {
            "_model_module": "@jupyter-widgets/base",
            "_model_module_version": "1.2.0",
            "_model_name": "LayoutModel",
            "_view_count": null,
            "_view_module": "@jupyter-widgets/base",
            "_view_module_version": "1.2.0",
            "_view_name": "LayoutView",
            "align_content": null,
            "align_items": null,
            "align_self": null,
            "border": null,
            "bottom": null,
            "display": null,
            "flex": null,
            "flex_flow": null,
            "grid_area": null,
            "grid_auto_columns": null,
            "grid_auto_flow": null,
            "grid_auto_rows": null,
            "grid_column": null,
            "grid_gap": null,
            "grid_row": null,
            "grid_template_areas": null,
            "grid_template_columns": null,
            "grid_template_rows": null,
            "height": null,
            "justify_content": null,
            "justify_items": null,
            "left": null,
            "margin": null,
            "max_height": null,
            "max_width": null,
            "min_height": null,
            "min_width": null,
            "object_fit": null,
            "object_position": null,
            "order": null,
            "overflow": null,
            "overflow_x": null,
            "overflow_y": null,
            "padding": null,
            "right": null,
            "top": null,
            "visibility": null,
            "width": null
          }
        },
        "78bc9658813e420286289ebf4fee38e0": {
          "model_module": "@jupyter-widgets/base",
          "model_module_version": "1.2.0",
          "model_name": "LayoutModel",
          "state": {
            "_model_module": "@jupyter-widgets/base",
            "_model_module_version": "1.2.0",
            "_model_name": "LayoutModel",
            "_view_count": null,
            "_view_module": "@jupyter-widgets/base",
            "_view_module_version": "1.2.0",
            "_view_name": "LayoutView",
            "align_content": null,
            "align_items": null,
            "align_self": null,
            "border": null,
            "bottom": null,
            "display": null,
            "flex": null,
            "flex_flow": null,
            "grid_area": null,
            "grid_auto_columns": null,
            "grid_auto_flow": null,
            "grid_auto_rows": null,
            "grid_column": null,
            "grid_gap": null,
            "grid_row": null,
            "grid_template_areas": null,
            "grid_template_columns": null,
            "grid_template_rows": null,
            "height": null,
            "justify_content": null,
            "justify_items": null,
            "left": null,
            "margin": null,
            "max_height": null,
            "max_width": null,
            "min_height": null,
            "min_width": null,
            "object_fit": null,
            "object_position": null,
            "order": null,
            "overflow": null,
            "overflow_x": null,
            "overflow_y": null,
            "padding": null,
            "right": null,
            "top": null,
            "visibility": null,
            "width": null
          }
        },
        "7950e51ad79042ae9320b302c9312885": {
          "model_module": "@jupyter-widgets/controls",
          "model_module_version": "1.5.0",
          "model_name": "FloatProgressModel",
          "state": {
            "_dom_classes": [],
            "_model_module": "@jupyter-widgets/controls",
            "_model_module_version": "1.5.0",
            "_model_name": "FloatProgressModel",
            "_view_count": null,
            "_view_module": "@jupyter-widgets/controls",
            "_view_module_version": "1.5.0",
            "_view_name": "ProgressView",
            "bar_style": "success",
            "description": "",
            "description_tooltip": null,
            "layout": "IPY_MODEL_a6952bd113bf4ec18e3b95171e4caaad",
            "max": 1836,
            "min": 0,
            "orientation": "horizontal",
            "style": "IPY_MODEL_a92953e501754596b487e784f75357b3",
            "value": 1836
          }
        },
        "80dbafc5025b47ceba88c24c312649e8": {
          "model_module": "@jupyter-widgets/controls",
          "model_module_version": "1.5.0",
          "model_name": "HBoxModel",
          "state": {
            "_dom_classes": [],
            "_model_module": "@jupyter-widgets/controls",
            "_model_module_version": "1.5.0",
            "_model_name": "HBoxModel",
            "_view_count": null,
            "_view_module": "@jupyter-widgets/controls",
            "_view_module_version": "1.5.0",
            "_view_name": "HBoxView",
            "box_style": "",
            "children": [
              "IPY_MODEL_9929b9f19dfc49abb97d3cf645fadb1e",
              "IPY_MODEL_7950e51ad79042ae9320b302c9312885",
              "IPY_MODEL_ee76633681324618a525b76f194cc07f"
            ],
            "layout": "IPY_MODEL_d8b63e3845aa4cb99d4c43f10aadb974"
          }
        },
        "85684877b9f34cec98163f00087c2968": {
          "model_module": "@jupyter-widgets/base",
          "model_module_version": "1.2.0",
          "model_name": "LayoutModel",
          "state": {
            "_model_module": "@jupyter-widgets/base",
            "_model_module_version": "1.2.0",
            "_model_name": "LayoutModel",
            "_view_count": null,
            "_view_module": "@jupyter-widgets/base",
            "_view_module_version": "1.2.0",
            "_view_name": "LayoutView",
            "align_content": null,
            "align_items": null,
            "align_self": null,
            "border": null,
            "bottom": null,
            "display": null,
            "flex": null,
            "flex_flow": null,
            "grid_area": null,
            "grid_auto_columns": null,
            "grid_auto_flow": null,
            "grid_auto_rows": null,
            "grid_column": null,
            "grid_gap": null,
            "grid_row": null,
            "grid_template_areas": null,
            "grid_template_columns": null,
            "grid_template_rows": null,
            "height": null,
            "justify_content": null,
            "justify_items": null,
            "left": null,
            "margin": null,
            "max_height": null,
            "max_width": null,
            "min_height": null,
            "min_width": null,
            "object_fit": null,
            "object_position": null,
            "order": null,
            "overflow": null,
            "overflow_x": null,
            "overflow_y": null,
            "padding": null,
            "right": null,
            "top": null,
            "visibility": null,
            "width": null
          }
        },
        "907d18af32854c7092b3712f64730189": {
          "model_module": "@jupyter-widgets/base",
          "model_module_version": "1.2.0",
          "model_name": "LayoutModel",
          "state": {
            "_model_module": "@jupyter-widgets/base",
            "_model_module_version": "1.2.0",
            "_model_name": "LayoutModel",
            "_view_count": null,
            "_view_module": "@jupyter-widgets/base",
            "_view_module_version": "1.2.0",
            "_view_name": "LayoutView",
            "align_content": null,
            "align_items": null,
            "align_self": null,
            "border": null,
            "bottom": null,
            "display": null,
            "flex": null,
            "flex_flow": null,
            "grid_area": null,
            "grid_auto_columns": null,
            "grid_auto_flow": null,
            "grid_auto_rows": null,
            "grid_column": null,
            "grid_gap": null,
            "grid_row": null,
            "grid_template_areas": null,
            "grid_template_columns": null,
            "grid_template_rows": null,
            "height": null,
            "justify_content": null,
            "justify_items": null,
            "left": null,
            "margin": null,
            "max_height": null,
            "max_width": null,
            "min_height": null,
            "min_width": null,
            "object_fit": null,
            "object_position": null,
            "order": null,
            "overflow": null,
            "overflow_x": null,
            "overflow_y": null,
            "padding": null,
            "right": null,
            "top": null,
            "visibility": null,
            "width": null
          }
        },
        "9094c1fd2d314568a58be10e1f526f2e": {
          "model_module": "@jupyter-widgets/controls",
          "model_module_version": "1.5.0",
          "model_name": "DescriptionStyleModel",
          "state": {
            "_model_module": "@jupyter-widgets/controls",
            "_model_module_version": "1.5.0",
            "_model_name": "DescriptionStyleModel",
            "_view_count": null,
            "_view_module": "@jupyter-widgets/base",
            "_view_module_version": "1.2.0",
            "_view_name": "StyleView",
            "description_width": ""
          }
        },
        "95b7dd8634df4d3abf658f1e5df482f3": {
          "model_module": "@jupyter-widgets/controls",
          "model_module_version": "1.5.0",
          "model_name": "DescriptionStyleModel",
          "state": {
            "_model_module": "@jupyter-widgets/controls",
            "_model_module_version": "1.5.0",
            "_model_name": "DescriptionStyleModel",
            "_view_count": null,
            "_view_module": "@jupyter-widgets/base",
            "_view_module_version": "1.2.0",
            "_view_name": "StyleView",
            "description_width": ""
          }
        },
        "9929b9f19dfc49abb97d3cf645fadb1e": {
          "model_module": "@jupyter-widgets/controls",
          "model_module_version": "1.5.0",
          "model_name": "HTMLModel",
          "state": {
            "_dom_classes": [],
            "_model_module": "@jupyter-widgets/controls",
            "_model_module_version": "1.5.0",
            "_model_name": "HTMLModel",
            "_view_count": null,
            "_view_module": "@jupyter-widgets/controls",
            "_view_module_version": "1.5.0",
            "_view_name": "HTMLView",
            "description": "",
            "description_tooltip": null,
            "layout": "IPY_MODEL_a131e4eb0732454e8ce9284f37ea62db",
            "placeholder": "​",
            "style": "IPY_MODEL_a7332ee7c6234d1b8c088979a7a79980",
            "value": "Map: 100%"
          }
        },
        "9f802ecc3e1f4edd837fe7044eadac37": {
          "model_module": "@jupyter-widgets/controls",
          "model_module_version": "1.5.0",
          "model_name": "HTMLModel",
          "state": {
            "_dom_classes": [],
            "_model_module": "@jupyter-widgets/controls",
            "_model_module_version": "1.5.0",
            "_model_name": "HTMLModel",
            "_view_count": null,
            "_view_module": "@jupyter-widgets/controls",
            "_view_module_version": "1.5.0",
            "_view_name": "HTMLView",
            "description": "",
            "description_tooltip": null,
            "layout": "IPY_MODEL_aa7c8950c8d542dd8804d97971793d03",
            "placeholder": "​",
            "style": "IPY_MODEL_e88c4260a9264addb193cf1cc3d8876e",
            "value": " 2/2 [00:03&lt;00:00,  1.71s/it]"
          }
        },
        "9ffca07ce5b14c9e9d7e9136b60a2eb1": {
          "model_module": "@jupyter-widgets/controls",
          "model_module_version": "1.5.0",
          "model_name": "HBoxModel",
          "state": {
            "_dom_classes": [],
            "_model_module": "@jupyter-widgets/controls",
            "_model_module_version": "1.5.0",
            "_model_name": "HBoxModel",
            "_view_count": null,
            "_view_module": "@jupyter-widgets/controls",
            "_view_module_version": "1.5.0",
            "_view_name": "HBoxView",
            "box_style": "",
            "children": [
              "IPY_MODEL_5f5d08a4b1864858b49188f47c548961",
              "IPY_MODEL_f1756203d846440d8ffd87a90e901083",
              "IPY_MODEL_333a49f26b3a467cb825d0c69c0fd6dc"
            ],
            "layout": "IPY_MODEL_2a46ec9da5bd4eb7aba17a2a0f3b9416"
          }
        },
        "a131e4eb0732454e8ce9284f37ea62db": {
          "model_module": "@jupyter-widgets/base",
          "model_module_version": "1.2.0",
          "model_name": "LayoutModel",
          "state": {
            "_model_module": "@jupyter-widgets/base",
            "_model_module_version": "1.2.0",
            "_model_name": "LayoutModel",
            "_view_count": null,
            "_view_module": "@jupyter-widgets/base",
            "_view_module_version": "1.2.0",
            "_view_name": "LayoutView",
            "align_content": null,
            "align_items": null,
            "align_self": null,
            "border": null,
            "bottom": null,
            "display": null,
            "flex": null,
            "flex_flow": null,
            "grid_area": null,
            "grid_auto_columns": null,
            "grid_auto_flow": null,
            "grid_auto_rows": null,
            "grid_column": null,
            "grid_gap": null,
            "grid_row": null,
            "grid_template_areas": null,
            "grid_template_columns": null,
            "grid_template_rows": null,
            "height": null,
            "justify_content": null,
            "justify_items": null,
            "left": null,
            "margin": null,
            "max_height": null,
            "max_width": null,
            "min_height": null,
            "min_width": null,
            "object_fit": null,
            "object_position": null,
            "order": null,
            "overflow": null,
            "overflow_x": null,
            "overflow_y": null,
            "padding": null,
            "right": null,
            "top": null,
            "visibility": null,
            "width": null
          }
        },
        "a6952bd113bf4ec18e3b95171e4caaad": {
          "model_module": "@jupyter-widgets/base",
          "model_module_version": "1.2.0",
          "model_name": "LayoutModel",
          "state": {
            "_model_module": "@jupyter-widgets/base",
            "_model_module_version": "1.2.0",
            "_model_name": "LayoutModel",
            "_view_count": null,
            "_view_module": "@jupyter-widgets/base",
            "_view_module_version": "1.2.0",
            "_view_name": "LayoutView",
            "align_content": null,
            "align_items": null,
            "align_self": null,
            "border": null,
            "bottom": null,
            "display": null,
            "flex": null,
            "flex_flow": null,
            "grid_area": null,
            "grid_auto_columns": null,
            "grid_auto_flow": null,
            "grid_auto_rows": null,
            "grid_column": null,
            "grid_gap": null,
            "grid_row": null,
            "grid_template_areas": null,
            "grid_template_columns": null,
            "grid_template_rows": null,
            "height": null,
            "justify_content": null,
            "justify_items": null,
            "left": null,
            "margin": null,
            "max_height": null,
            "max_width": null,
            "min_height": null,
            "min_width": null,
            "object_fit": null,
            "object_position": null,
            "order": null,
            "overflow": null,
            "overflow_x": null,
            "overflow_y": null,
            "padding": null,
            "right": null,
            "top": null,
            "visibility": null,
            "width": null
          }
        },
        "a7332ee7c6234d1b8c088979a7a79980": {
          "model_module": "@jupyter-widgets/controls",
          "model_module_version": "1.5.0",
          "model_name": "DescriptionStyleModel",
          "state": {
            "_model_module": "@jupyter-widgets/controls",
            "_model_module_version": "1.5.0",
            "_model_name": "DescriptionStyleModel",
            "_view_count": null,
            "_view_module": "@jupyter-widgets/base",
            "_view_module_version": "1.2.0",
            "_view_name": "StyleView",
            "description_width": ""
          }
        },
        "a84bf54024bf48739c83cffdcbcbcee0": {
          "model_module": "@jupyter-widgets/controls",
          "model_module_version": "1.5.0",
          "model_name": "DescriptionStyleModel",
          "state": {
            "_model_module": "@jupyter-widgets/controls",
            "_model_module_version": "1.5.0",
            "_model_name": "DescriptionStyleModel",
            "_view_count": null,
            "_view_module": "@jupyter-widgets/base",
            "_view_module_version": "1.2.0",
            "_view_name": "StyleView",
            "description_width": ""
          }
        },
        "a92953e501754596b487e784f75357b3": {
          "model_module": "@jupyter-widgets/controls",
          "model_module_version": "1.5.0",
          "model_name": "ProgressStyleModel",
          "state": {
            "_model_module": "@jupyter-widgets/controls",
            "_model_module_version": "1.5.0",
            "_model_name": "ProgressStyleModel",
            "_view_count": null,
            "_view_module": "@jupyter-widgets/base",
            "_view_module_version": "1.2.0",
            "_view_name": "StyleView",
            "bar_color": null,
            "description_width": ""
          }
        },
        "aa7c8950c8d542dd8804d97971793d03": {
          "model_module": "@jupyter-widgets/base",
          "model_module_version": "1.2.0",
          "model_name": "LayoutModel",
          "state": {
            "_model_module": "@jupyter-widgets/base",
            "_model_module_version": "1.2.0",
            "_model_name": "LayoutModel",
            "_view_count": null,
            "_view_module": "@jupyter-widgets/base",
            "_view_module_version": "1.2.0",
            "_view_name": "LayoutView",
            "align_content": null,
            "align_items": null,
            "align_self": null,
            "border": null,
            "bottom": null,
            "display": null,
            "flex": null,
            "flex_flow": null,
            "grid_area": null,
            "grid_auto_columns": null,
            "grid_auto_flow": null,
            "grid_auto_rows": null,
            "grid_column": null,
            "grid_gap": null,
            "grid_row": null,
            "grid_template_areas": null,
            "grid_template_columns": null,
            "grid_template_rows": null,
            "height": null,
            "justify_content": null,
            "justify_items": null,
            "left": null,
            "margin": null,
            "max_height": null,
            "max_width": null,
            "min_height": null,
            "min_width": null,
            "object_fit": null,
            "object_position": null,
            "order": null,
            "overflow": null,
            "overflow_x": null,
            "overflow_y": null,
            "padding": null,
            "right": null,
            "top": null,
            "visibility": null,
            "width": null
          }
        },
        "adc49cc64ef3410fb9667abea6fc1315": {
          "model_module": "@jupyter-widgets/controls",
          "model_module_version": "1.5.0",
          "model_name": "ProgressStyleModel",
          "state": {
            "_model_module": "@jupyter-widgets/controls",
            "_model_module_version": "1.5.0",
            "_model_name": "ProgressStyleModel",
            "_view_count": null,
            "_view_module": "@jupyter-widgets/base",
            "_view_module_version": "1.2.0",
            "_view_name": "StyleView",
            "bar_color": null,
            "description_width": ""
          }
        },
        "b522656d977540e69bd3f17d85c30384": {
          "model_module": "@jupyter-widgets/controls",
          "model_module_version": "1.5.0",
          "model_name": "DescriptionStyleModel",
          "state": {
            "_model_module": "@jupyter-widgets/controls",
            "_model_module_version": "1.5.0",
            "_model_name": "DescriptionStyleModel",
            "_view_count": null,
            "_view_module": "@jupyter-widgets/base",
            "_view_module_version": "1.2.0",
            "_view_name": "StyleView",
            "description_width": ""
          }
        },
        "c55e5cc2f2c647e79db41c78154b299a": {
          "model_module": "@jupyter-widgets/controls",
          "model_module_version": "1.5.0",
          "model_name": "FloatProgressModel",
          "state": {
            "_dom_classes": [],
            "_model_module": "@jupyter-widgets/controls",
            "_model_module_version": "1.5.0",
            "_model_name": "FloatProgressModel",
            "_view_count": null,
            "_view_module": "@jupyter-widgets/controls",
            "_view_module_version": "1.5.0",
            "_view_name": "ProgressView",
            "bar_style": "success",
            "description": "",
            "description_tooltip": null,
            "layout": "IPY_MODEL_09f9c9243b47411cb0a915cce5311934",
            "max": 2,
            "min": 0,
            "orientation": "horizontal",
            "style": "IPY_MODEL_adc49cc64ef3410fb9667abea6fc1315",
            "value": 2
          }
        },
        "c67eb868a40e4bf4a1febad32b95e921": {
          "model_module": "@jupyter-widgets/controls",
          "model_module_version": "1.5.0",
          "model_name": "DescriptionStyleModel",
          "state": {
            "_model_module": "@jupyter-widgets/controls",
            "_model_module_version": "1.5.0",
            "_model_name": "DescriptionStyleModel",
            "_view_count": null,
            "_view_module": "@jupyter-widgets/base",
            "_view_module_version": "1.2.0",
            "_view_name": "StyleView",
            "description_width": ""
          }
        },
        "c787c5d7c15c43babb3eff34704bfa76": {
          "model_module": "@jupyter-widgets/base",
          "model_module_version": "1.2.0",
          "model_name": "LayoutModel",
          "state": {
            "_model_module": "@jupyter-widgets/base",
            "_model_module_version": "1.2.0",
            "_model_name": "LayoutModel",
            "_view_count": null,
            "_view_module": "@jupyter-widgets/base",
            "_view_module_version": "1.2.0",
            "_view_name": "LayoutView",
            "align_content": null,
            "align_items": null,
            "align_self": null,
            "border": null,
            "bottom": null,
            "display": null,
            "flex": null,
            "flex_flow": null,
            "grid_area": null,
            "grid_auto_columns": null,
            "grid_auto_flow": null,
            "grid_auto_rows": null,
            "grid_column": null,
            "grid_gap": null,
            "grid_row": null,
            "grid_template_areas": null,
            "grid_template_columns": null,
            "grid_template_rows": null,
            "height": null,
            "justify_content": null,
            "justify_items": null,
            "left": null,
            "margin": null,
            "max_height": null,
            "max_width": null,
            "min_height": null,
            "min_width": null,
            "object_fit": null,
            "object_position": null,
            "order": null,
            "overflow": null,
            "overflow_x": null,
            "overflow_y": null,
            "padding": null,
            "right": null,
            "top": null,
            "visibility": null,
            "width": null
          }
        },
        "ce0e00762a6f457f84e691eada5f358b": {
          "model_module": "@jupyter-widgets/controls",
          "model_module_version": "1.5.0",
          "model_name": "HTMLModel",
          "state": {
            "_dom_classes": [],
            "_model_module": "@jupyter-widgets/controls",
            "_model_module_version": "1.5.0",
            "_model_name": "HTMLModel",
            "_view_count": null,
            "_view_module": "@jupyter-widgets/controls",
            "_view_module_version": "1.5.0",
            "_view_name": "HTMLView",
            "description": "",
            "description_tooltip": null,
            "layout": "IPY_MODEL_78bc9658813e420286289ebf4fee38e0",
            "placeholder": "​",
            "style": "IPY_MODEL_b522656d977540e69bd3f17d85c30384",
            "value": "Loading checkpoint shards: 100%"
          }
        },
        "d73b9ac5544146c9bc37033b365868bf": {
          "model_module": "@jupyter-widgets/controls",
          "model_module_version": "1.5.0",
          "model_name": "HBoxModel",
          "state": {
            "_dom_classes": [],
            "_model_module": "@jupyter-widgets/controls",
            "_model_module_version": "1.5.0",
            "_model_name": "HBoxModel",
            "_view_count": null,
            "_view_module": "@jupyter-widgets/controls",
            "_view_module_version": "1.5.0",
            "_view_name": "HBoxView",
            "box_style": "",
            "children": [
              "IPY_MODEL_ce0e00762a6f457f84e691eada5f358b",
              "IPY_MODEL_c55e5cc2f2c647e79db41c78154b299a",
              "IPY_MODEL_9f802ecc3e1f4edd837fe7044eadac37"
            ],
            "layout": "IPY_MODEL_0f7cc2dd732147e2afb9e783e4031eba"
          }
        },
        "d8b63e3845aa4cb99d4c43f10aadb974": {
          "model_module": "@jupyter-widgets/base",
          "model_module_version": "1.2.0",
          "model_name": "LayoutModel",
          "state": {
            "_model_module": "@jupyter-widgets/base",
            "_model_module_version": "1.2.0",
            "_model_name": "LayoutModel",
            "_view_count": null,
            "_view_module": "@jupyter-widgets/base",
            "_view_module_version": "1.2.0",
            "_view_name": "LayoutView",
            "align_content": null,
            "align_items": null,
            "align_self": null,
            "border": null,
            "bottom": null,
            "display": null,
            "flex": null,
            "flex_flow": null,
            "grid_area": null,
            "grid_auto_columns": null,
            "grid_auto_flow": null,
            "grid_auto_rows": null,
            "grid_column": null,
            "grid_gap": null,
            "grid_row": null,
            "grid_template_areas": null,
            "grid_template_columns": null,
            "grid_template_rows": null,
            "height": null,
            "justify_content": null,
            "justify_items": null,
            "left": null,
            "margin": null,
            "max_height": null,
            "max_width": null,
            "min_height": null,
            "min_width": null,
            "object_fit": null,
            "object_position": null,
            "order": null,
            "overflow": null,
            "overflow_x": null,
            "overflow_y": null,
            "padding": null,
            "right": null,
            "top": null,
            "visibility": null,
            "width": null
          }
        },
        "d91e6f90171744a6a8df12b4d145cd7f": {
          "model_module": "@jupyter-widgets/base",
          "model_module_version": "1.2.0",
          "model_name": "LayoutModel",
          "state": {
            "_model_module": "@jupyter-widgets/base",
            "_model_module_version": "1.2.0",
            "_model_name": "LayoutModel",
            "_view_count": null,
            "_view_module": "@jupyter-widgets/base",
            "_view_module_version": "1.2.0",
            "_view_name": "LayoutView",
            "align_content": null,
            "align_items": null,
            "align_self": null,
            "border": null,
            "bottom": null,
            "display": null,
            "flex": null,
            "flex_flow": null,
            "grid_area": null,
            "grid_auto_columns": null,
            "grid_auto_flow": null,
            "grid_auto_rows": null,
            "grid_column": null,
            "grid_gap": null,
            "grid_row": null,
            "grid_template_areas": null,
            "grid_template_columns": null,
            "grid_template_rows": null,
            "height": null,
            "justify_content": null,
            "justify_items": null,
            "left": null,
            "margin": null,
            "max_height": null,
            "max_width": null,
            "min_height": null,
            "min_width": null,
            "object_fit": null,
            "object_position": null,
            "order": null,
            "overflow": null,
            "overflow_x": null,
            "overflow_y": null,
            "padding": null,
            "right": null,
            "top": null,
            "visibility": null,
            "width": null
          }
        },
        "de981ef73a804b5c81ab10256553dfce": {
          "model_module": "@jupyter-widgets/controls",
          "model_module_version": "1.5.0",
          "model_name": "HTMLModel",
          "state": {
            "_dom_classes": [],
            "_model_module": "@jupyter-widgets/controls",
            "_model_module_version": "1.5.0",
            "_model_name": "HTMLModel",
            "_view_count": null,
            "_view_module": "@jupyter-widgets/controls",
            "_view_module_version": "1.5.0",
            "_view_name": "HTMLView",
            "description": "",
            "description_tooltip": null,
            "layout": "IPY_MODEL_6cdec0062df54921b470cfd633ebf38a",
            "placeholder": "​",
            "style": "IPY_MODEL_46a7b7260e6e4734bc5ae8f8e8eeaf80",
            "value": " 3760/3760 [00:00&lt;00:00, 17268.68 examples/s]"
          }
        },
        "e88c4260a9264addb193cf1cc3d8876e": {
          "model_module": "@jupyter-widgets/controls",
          "model_module_version": "1.5.0",
          "model_name": "DescriptionStyleModel",
          "state": {
            "_model_module": "@jupyter-widgets/controls",
            "_model_module_version": "1.5.0",
            "_model_name": "DescriptionStyleModel",
            "_view_count": null,
            "_view_module": "@jupyter-widgets/base",
            "_view_module_version": "1.2.0",
            "_view_name": "StyleView",
            "description_width": ""
          }
        },
        "e8ce54207dfd43e9b54ba356bc80b66c": {
          "model_module": "@jupyter-widgets/controls",
          "model_module_version": "1.5.0",
          "model_name": "FloatProgressModel",
          "state": {
            "_dom_classes": [],
            "_model_module": "@jupyter-widgets/controls",
            "_model_module_version": "1.5.0",
            "_model_name": "FloatProgressModel",
            "_view_count": null,
            "_view_module": "@jupyter-widgets/controls",
            "_view_module_version": "1.5.0",
            "_view_name": "ProgressView",
            "bar_style": "success",
            "description": "",
            "description_tooltip": null,
            "layout": "IPY_MODEL_c787c5d7c15c43babb3eff34704bfa76",
            "max": 3760,
            "min": 0,
            "orientation": "horizontal",
            "style": "IPY_MODEL_3ece1e17b4d14e75af6abc351506bf3a",
            "value": 3760
          }
        },
        "ead6c566a9b3460faaaf989667b922ea": {
          "model_module": "@jupyter-widgets/base",
          "model_module_version": "1.2.0",
          "model_name": "LayoutModel",
          "state": {
            "_model_module": "@jupyter-widgets/base",
            "_model_module_version": "1.2.0",
            "_model_name": "LayoutModel",
            "_view_count": null,
            "_view_module": "@jupyter-widgets/base",
            "_view_module_version": "1.2.0",
            "_view_name": "LayoutView",
            "align_content": null,
            "align_items": null,
            "align_self": null,
            "border": null,
            "bottom": null,
            "display": null,
            "flex": null,
            "flex_flow": null,
            "grid_area": null,
            "grid_auto_columns": null,
            "grid_auto_flow": null,
            "grid_auto_rows": null,
            "grid_column": null,
            "grid_gap": null,
            "grid_row": null,
            "grid_template_areas": null,
            "grid_template_columns": null,
            "grid_template_rows": null,
            "height": null,
            "justify_content": null,
            "justify_items": null,
            "left": null,
            "margin": null,
            "max_height": null,
            "max_width": null,
            "min_height": null,
            "min_width": null,
            "object_fit": null,
            "object_position": null,
            "order": null,
            "overflow": null,
            "overflow_x": null,
            "overflow_y": null,
            "padding": null,
            "right": null,
            "top": null,
            "visibility": null,
            "width": null
          }
        },
        "eb075f9ae9cd4c8498beedf504bd89fe": {
          "model_module": "@jupyter-widgets/controls",
          "model_module_version": "1.5.0",
          "model_name": "HBoxModel",
          "state": {
            "_dom_classes": [],
            "_model_module": "@jupyter-widgets/controls",
            "_model_module_version": "1.5.0",
            "_model_name": "HBoxModel",
            "_view_count": null,
            "_view_module": "@jupyter-widgets/controls",
            "_view_module_version": "1.5.0",
            "_view_name": "HBoxView",
            "box_style": "",
            "children": [
              "IPY_MODEL_fcf808b7c1bb4e808279e337f9490466",
              "IPY_MODEL_e8ce54207dfd43e9b54ba356bc80b66c",
              "IPY_MODEL_de981ef73a804b5c81ab10256553dfce"
            ],
            "layout": "IPY_MODEL_58d6b1acd6bf4a10b931486d659cd868"
          }
        },
        "ec42a668573d4e178418e11e7047bf62": {
          "model_module": "@jupyter-widgets/base",
          "model_module_version": "1.2.0",
          "model_name": "LayoutModel",
          "state": {
            "_model_module": "@jupyter-widgets/base",
            "_model_module_version": "1.2.0",
            "_model_name": "LayoutModel",
            "_view_count": null,
            "_view_module": "@jupyter-widgets/base",
            "_view_module_version": "1.2.0",
            "_view_name": "LayoutView",
            "align_content": null,
            "align_items": null,
            "align_self": null,
            "border": null,
            "bottom": null,
            "display": null,
            "flex": null,
            "flex_flow": null,
            "grid_area": null,
            "grid_auto_columns": null,
            "grid_auto_flow": null,
            "grid_auto_rows": null,
            "grid_column": null,
            "grid_gap": null,
            "grid_row": null,
            "grid_template_areas": null,
            "grid_template_columns": null,
            "grid_template_rows": null,
            "height": null,
            "justify_content": null,
            "justify_items": null,
            "left": null,
            "margin": null,
            "max_height": null,
            "max_width": null,
            "min_height": null,
            "min_width": null,
            "object_fit": null,
            "object_position": null,
            "order": null,
            "overflow": null,
            "overflow_x": null,
            "overflow_y": null,
            "padding": null,
            "right": null,
            "top": null,
            "visibility": null,
            "width": null
          }
        },
        "eccf29e3a9f54cff9c53ec80081f88c8": {
          "model_module": "@jupyter-widgets/base",
          "model_module_version": "1.2.0",
          "model_name": "LayoutModel",
          "state": {
            "_model_module": "@jupyter-widgets/base",
            "_model_module_version": "1.2.0",
            "_model_name": "LayoutModel",
            "_view_count": null,
            "_view_module": "@jupyter-widgets/base",
            "_view_module_version": "1.2.0",
            "_view_name": "LayoutView",
            "align_content": null,
            "align_items": null,
            "align_self": null,
            "border": null,
            "bottom": null,
            "display": null,
            "flex": null,
            "flex_flow": null,
            "grid_area": null,
            "grid_auto_columns": null,
            "grid_auto_flow": null,
            "grid_auto_rows": null,
            "grid_column": null,
            "grid_gap": null,
            "grid_row": null,
            "grid_template_areas": null,
            "grid_template_columns": null,
            "grid_template_rows": null,
            "height": null,
            "justify_content": null,
            "justify_items": null,
            "left": null,
            "margin": null,
            "max_height": null,
            "max_width": null,
            "min_height": null,
            "min_width": null,
            "object_fit": null,
            "object_position": null,
            "order": null,
            "overflow": null,
            "overflow_x": null,
            "overflow_y": null,
            "padding": null,
            "right": null,
            "top": null,
            "visibility": null,
            "width": null
          }
        },
        "ee76633681324618a525b76f194cc07f": {
          "model_module": "@jupyter-widgets/controls",
          "model_module_version": "1.5.0",
          "model_name": "HTMLModel",
          "state": {
            "_dom_classes": [],
            "_model_module": "@jupyter-widgets/controls",
            "_model_module_version": "1.5.0",
            "_model_name": "HTMLModel",
            "_view_count": null,
            "_view_module": "@jupyter-widgets/controls",
            "_view_module_version": "1.5.0",
            "_view_name": "HTMLView",
            "description": "",
            "description_tooltip": null,
            "layout": "IPY_MODEL_680c78568c554303ac18d0e002face32",
            "placeholder": "​",
            "style": "IPY_MODEL_28f78f8fe9c74799a2676d95c7ea8cb8",
            "value": " 1836/1836 [00:00&lt;00:00, 15681.52 examples/s]"
          }
        },
        "f1756203d846440d8ffd87a90e901083": {
          "model_module": "@jupyter-widgets/controls",
          "model_module_version": "1.5.0",
          "model_name": "FloatProgressModel",
          "state": {
            "_dom_classes": [],
            "_model_module": "@jupyter-widgets/controls",
            "_model_module_version": "1.5.0",
            "_model_name": "FloatProgressModel",
            "_view_count": null,
            "_view_module": "@jupyter-widgets/controls",
            "_view_module_version": "1.5.0",
            "_view_name": "ProgressView",
            "bar_style": "success",
            "description": "",
            "description_tooltip": null,
            "layout": "IPY_MODEL_ead6c566a9b3460faaaf989667b922ea",
            "max": 2,
            "min": 0,
            "orientation": "horizontal",
            "style": "IPY_MODEL_23911f1f5fe44e1288cccab844cb0bb4",
            "value": 2
          }
        },
        "fbd13790c4824ea2a4daa032dc112d0a": {
          "model_module": "@jupyter-widgets/controls",
          "model_module_version": "1.5.0",
          "model_name": "HTMLModel",
          "state": {
            "_dom_classes": [],
            "_model_module": "@jupyter-widgets/controls",
            "_model_module_version": "1.5.0",
            "_model_name": "HTMLModel",
            "_view_count": null,
            "_view_module": "@jupyter-widgets/controls",
            "_view_module_version": "1.5.0",
            "_view_name": "HTMLView",
            "description": "",
            "description_tooltip": null,
            "layout": "IPY_MODEL_197c6ffba89043b5b65be5f51444a176",
            "placeholder": "​",
            "style": "IPY_MODEL_95b7dd8634df4d3abf658f1e5df482f3",
            "value": "Map: 100%"
          }
        },
        "fcf808b7c1bb4e808279e337f9490466": {
          "model_module": "@jupyter-widgets/controls",
          "model_module_version": "1.5.0",
          "model_name": "HTMLModel",
          "state": {
            "_dom_classes": [],
            "_model_module": "@jupyter-widgets/controls",
            "_model_module_version": "1.5.0",
            "_model_name": "HTMLModel",
            "_view_count": null,
            "_view_module": "@jupyter-widgets/controls",
            "_view_module_version": "1.5.0",
            "_view_name": "HTMLView",
            "description": "",
            "description_tooltip": null,
            "layout": "IPY_MODEL_907d18af32854c7092b3712f64730189",
            "placeholder": "​",
            "style": "IPY_MODEL_a84bf54024bf48739c83cffdcbcbcee0",
            "value": "Map: 100%"
          }
        }
      }
    }
  },
  "nbformat": 4,
  "nbformat_minor": 0
}
